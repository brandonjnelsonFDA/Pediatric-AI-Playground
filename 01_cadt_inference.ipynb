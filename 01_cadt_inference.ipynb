{
 "cells": [
  {
   "cell_type": "markdown",
   "metadata": {},
   "source": [
    "# Model Playground"
   ]
  },
  {
   "cell_type": "markdown",
   "metadata": {},
   "source": [
    "Now add in the synthetic data here: /scratch/brandon.nelson/demos/pediatric_ich_cadt/study_plan.csv, and /scratch/brandon.nelson/demos/pediatric_ich_cadt/results"
   ]
  },
  {
   "cell_type": "code",
   "execution_count": 74,
   "metadata": {},
   "outputs": [
    {
     "data": {
      "text/html": [
       "<div>\n",
       "<style scoped>\n",
       "    .dataframe tbody tr th:only-of-type {\n",
       "        vertical-align: middle;\n",
       "    }\n",
       "\n",
       "    .dataframe tbody tr th {\n",
       "        vertical-align: top;\n",
       "    }\n",
       "\n",
       "    .dataframe thead th {\n",
       "        text-align: right;\n",
       "    }\n",
       "</style>\n",
       "<table border=\"1\" class=\"dataframe\">\n",
       "  <thead>\n",
       "    <tr style=\"text-align: right;\">\n",
       "      <th></th>\n",
       "      <th>name</th>\n",
       "      <th>age</th>\n",
       "      <th>Epidural</th>\n",
       "      <th>Subdural</th>\n",
       "      <th>Intraparenchymal</th>\n",
       "      <th>Intraventricular</th>\n",
       "      <th>Subarachnoid</th>\n",
       "      <th>file</th>\n",
       "    </tr>\n",
       "  </thead>\n",
       "  <tbody>\n",
       "    <tr>\n",
       "      <th>0</th>\n",
       "      <td>49.0</td>\n",
       "      <td>35.00</td>\n",
       "      <td>0.0</td>\n",
       "      <td>0.0</td>\n",
       "      <td>0.0</td>\n",
       "      <td>0.0</td>\n",
       "      <td>0.0</td>\n",
       "      <td>/projects01/didsr-aiml/brandon.nelson/pedsilic...</td>\n",
       "    </tr>\n",
       "    <tr>\n",
       "      <th>1</th>\n",
       "      <td>49.0</td>\n",
       "      <td>35.00</td>\n",
       "      <td>0.0</td>\n",
       "      <td>0.0</td>\n",
       "      <td>0.0</td>\n",
       "      <td>0.0</td>\n",
       "      <td>0.0</td>\n",
       "      <td>/projects01/didsr-aiml/brandon.nelson/pedsilic...</td>\n",
       "    </tr>\n",
       "    <tr>\n",
       "      <th>2</th>\n",
       "      <td>49.0</td>\n",
       "      <td>35.00</td>\n",
       "      <td>0.0</td>\n",
       "      <td>0.0</td>\n",
       "      <td>0.0</td>\n",
       "      <td>0.0</td>\n",
       "      <td>0.0</td>\n",
       "      <td>/projects01/didsr-aiml/brandon.nelson/pedsilic...</td>\n",
       "    </tr>\n",
       "    <tr>\n",
       "      <th>3</th>\n",
       "      <td>49.0</td>\n",
       "      <td>35.00</td>\n",
       "      <td>0.0</td>\n",
       "      <td>0.0</td>\n",
       "      <td>0.0</td>\n",
       "      <td>0.0</td>\n",
       "      <td>0.0</td>\n",
       "      <td>/projects01/didsr-aiml/brandon.nelson/pedsilic...</td>\n",
       "    </tr>\n",
       "    <tr>\n",
       "      <th>4</th>\n",
       "      <td>49.0</td>\n",
       "      <td>35.00</td>\n",
       "      <td>0.0</td>\n",
       "      <td>0.0</td>\n",
       "      <td>0.0</td>\n",
       "      <td>0.0</td>\n",
       "      <td>0.0</td>\n",
       "      <td>/projects01/didsr-aiml/brandon.nelson/pedsilic...</td>\n",
       "    </tr>\n",
       "    <tr>\n",
       "      <th>...</th>\n",
       "      <td>...</td>\n",
       "      <td>...</td>\n",
       "      <td>...</td>\n",
       "      <td>...</td>\n",
       "      <td>...</td>\n",
       "      <td>...</td>\n",
       "      <td>...</td>\n",
       "      <td>...</td>\n",
       "    </tr>\n",
       "    <tr>\n",
       "      <th>9639</th>\n",
       "      <td>synthetic 43</td>\n",
       "      <td>15.75</td>\n",
       "      <td>0.0</td>\n",
       "      <td>0.0</td>\n",
       "      <td>0.0</td>\n",
       "      <td>0.0</td>\n",
       "      <td>0.0</td>\n",
       "      <td>/scratch/brandon.nelson/demos/pediatric_ich_ca...</td>\n",
       "    </tr>\n",
       "    <tr>\n",
       "      <th>9640</th>\n",
       "      <td>synthetic 43</td>\n",
       "      <td>15.75</td>\n",
       "      <td>0.0</td>\n",
       "      <td>0.0</td>\n",
       "      <td>0.0</td>\n",
       "      <td>0.0</td>\n",
       "      <td>0.0</td>\n",
       "      <td>/scratch/brandon.nelson/demos/pediatric_ich_ca...</td>\n",
       "    </tr>\n",
       "    <tr>\n",
       "      <th>9641</th>\n",
       "      <td>synthetic 43</td>\n",
       "      <td>15.75</td>\n",
       "      <td>0.0</td>\n",
       "      <td>0.0</td>\n",
       "      <td>0.0</td>\n",
       "      <td>0.0</td>\n",
       "      <td>0.0</td>\n",
       "      <td>/scratch/brandon.nelson/demos/pediatric_ich_ca...</td>\n",
       "    </tr>\n",
       "    <tr>\n",
       "      <th>9642</th>\n",
       "      <td>synthetic 43</td>\n",
       "      <td>15.75</td>\n",
       "      <td>0.0</td>\n",
       "      <td>0.0</td>\n",
       "      <td>0.0</td>\n",
       "      <td>0.0</td>\n",
       "      <td>0.0</td>\n",
       "      <td>/scratch/brandon.nelson/demos/pediatric_ich_ca...</td>\n",
       "    </tr>\n",
       "    <tr>\n",
       "      <th>9643</th>\n",
       "      <td>synthetic 43</td>\n",
       "      <td>15.75</td>\n",
       "      <td>0.0</td>\n",
       "      <td>0.0</td>\n",
       "      <td>0.0</td>\n",
       "      <td>0.0</td>\n",
       "      <td>0.0</td>\n",
       "      <td>/scratch/brandon.nelson/demos/pediatric_ich_ca...</td>\n",
       "    </tr>\n",
       "  </tbody>\n",
       "</table>\n",
       "<p>9644 rows × 8 columns</p>\n",
       "</div>"
      ],
      "text/plain": [
       "              name    age  Epidural  Subdural  Intraparenchymal  \\\n",
       "0             49.0  35.00       0.0       0.0               0.0   \n",
       "1             49.0  35.00       0.0       0.0               0.0   \n",
       "2             49.0  35.00       0.0       0.0               0.0   \n",
       "3             49.0  35.00       0.0       0.0               0.0   \n",
       "4             49.0  35.00       0.0       0.0               0.0   \n",
       "...            ...    ...       ...       ...               ...   \n",
       "9639  synthetic 43  15.75       0.0       0.0               0.0   \n",
       "9640  synthetic 43  15.75       0.0       0.0               0.0   \n",
       "9641  synthetic 43  15.75       0.0       0.0               0.0   \n",
       "9642  synthetic 43  15.75       0.0       0.0               0.0   \n",
       "9643  synthetic 43  15.75       0.0       0.0               0.0   \n",
       "\n",
       "      Intraventricular  Subarachnoid  \\\n",
       "0                  0.0           0.0   \n",
       "1                  0.0           0.0   \n",
       "2                  0.0           0.0   \n",
       "3                  0.0           0.0   \n",
       "4                  0.0           0.0   \n",
       "...                ...           ...   \n",
       "9639               0.0           0.0   \n",
       "9640               0.0           0.0   \n",
       "9641               0.0           0.0   \n",
       "9642               0.0           0.0   \n",
       "9643               0.0           0.0   \n",
       "\n",
       "                                                   file  \n",
       "0     /projects01/didsr-aiml/brandon.nelson/pedsilic...  \n",
       "1     /projects01/didsr-aiml/brandon.nelson/pedsilic...  \n",
       "2     /projects01/didsr-aiml/brandon.nelson/pedsilic...  \n",
       "3     /projects01/didsr-aiml/brandon.nelson/pedsilic...  \n",
       "4     /projects01/didsr-aiml/brandon.nelson/pedsilic...  \n",
       "...                                                 ...  \n",
       "9639  /scratch/brandon.nelson/demos/pediatric_ich_ca...  \n",
       "9640  /scratch/brandon.nelson/demos/pediatric_ich_ca...  \n",
       "9641  /scratch/brandon.nelson/demos/pediatric_ich_ca...  \n",
       "9642  /scratch/brandon.nelson/demos/pediatric_ich_ca...  \n",
       "9643  /scratch/brandon.nelson/demos/pediatric_ich_ca...  \n",
       "\n",
       "[9644 rows x 8 columns]"
      ]
     },
     "execution_count": 74,
     "metadata": {},
     "output_type": "execute_result"
    }
   ],
   "source": [
    "from pathlib import Path\n",
    "import pandas as pd\n",
    "import numpy as np\n",
    "# from gradio_demo import load_datasets\n",
    "\n",
    "hssayeni_dir = '/projects01/didsr-aiml/brandon.nelson/pedsilicoICH/datasets/Hssayeni/'\n",
    "synth_dir = Path('/scratch/brandon.nelson/demos/pediatric_ich_cadt/results')\n",
    "\n",
    "patients = load_datasets(hssayeni_dir, synth_dir)\n",
    "patients"
   ]
  },
  {
   "cell_type": "code",
   "execution_count": 78,
   "metadata": {},
   "outputs": [
    {
     "data": {
      "text/plain": [
       "(135, 512, 512)"
      ]
     },
     "execution_count": 78,
     "metadata": {},
     "output_type": "execute_result"
    }
   ],
   "source": [
    "import SimpleITK as sitk\n",
    "vol = sitk.GetArrayFromImage(sitk.ReadImage(sorted(list(Path(patients[patients.name == 'synthetic 43']['file'].iloc[0]).glob('*.dcm')))))\n",
    "vol.shape"
   ]
  },
  {
   "cell_type": "code",
   "execution_count": null,
   "metadata": {},
   "outputs": [
    {
     "data": {
      "text/html": [
       "<div>\n",
       "<style scoped>\n",
       "    .dataframe tbody tr th:only-of-type {\n",
       "        vertical-align: middle;\n",
       "    }\n",
       "\n",
       "    .dataframe tbody tr th {\n",
       "        vertical-align: top;\n",
       "    }\n",
       "\n",
       "    .dataframe thead th {\n",
       "        text-align: right;\n",
       "    }\n",
       "</style>\n",
       "<table border=\"1\" class=\"dataframe\">\n",
       "  <thead>\n",
       "    <tr style=\"text-align: right;\">\n",
       "      <th></th>\n",
       "      <th>case_id</th>\n",
       "      <th>phantom</th>\n",
       "      <th>scanner_model</th>\n",
       "      <th>kVp</th>\n",
       "      <th>mA</th>\n",
       "      <th>pitch</th>\n",
       "      <th>views</th>\n",
       "      <th>scan_coverage</th>\n",
       "      <th>recon_kernel</th>\n",
       "      <th>slice_thickness</th>\n",
       "      <th>...</th>\n",
       "      <th>smoothness</th>\n",
       "      <th>irregularity</th>\n",
       "      <th>eccentricity</th>\n",
       "      <th>name</th>\n",
       "      <th>image_file_path</th>\n",
       "      <th>lesion</th>\n",
       "      <th>lesion_volume(mL)</th>\n",
       "      <th>lesion_attenuation(HU)</th>\n",
       "      <th>lesion_location(z,y,x)</th>\n",
       "      <th>mask_file_path</th>\n",
       "    </tr>\n",
       "  </thead>\n",
       "  <tbody>\n",
       "    <tr>\n",
       "      <th>0</th>\n",
       "      <td>case_0024</td>\n",
       "      <td>6.5 yr NIHPD Head</td>\n",
       "      <td>Siemens_DefinitionFlash</td>\n",
       "      <td>120.0</td>\n",
       "      <td>300.0</td>\n",
       "      <td>0.0</td>\n",
       "      <td>1000.0</td>\n",
       "      <td>dynamic</td>\n",
       "      <td>soft</td>\n",
       "      <td>1</td>\n",
       "      <td>...</td>\n",
       "      <td>NaN</td>\n",
       "      <td>NaN</td>\n",
       "      <td>NaN</td>\n",
       "      <td>6.5 yr NIHPD Head</td>\n",
       "      <td>/scratch/brandon.nelson/demos/pediatric_ich_ca...</td>\n",
       "      <td>NaN</td>\n",
       "      <td>0.0</td>\n",
       "      <td>0.0</td>\n",
       "      <td>NaN</td>\n",
       "      <td>/scratch/brandon.nelson/demos/pediatric_ich_ca...</td>\n",
       "    </tr>\n",
       "    <tr>\n",
       "      <th>1</th>\n",
       "      <td>case_0024</td>\n",
       "      <td>6.5 yr NIHPD Head</td>\n",
       "      <td>Siemens_DefinitionFlash</td>\n",
       "      <td>120.0</td>\n",
       "      <td>300.0</td>\n",
       "      <td>0.0</td>\n",
       "      <td>1000.0</td>\n",
       "      <td>dynamic</td>\n",
       "      <td>soft</td>\n",
       "      <td>1</td>\n",
       "      <td>...</td>\n",
       "      <td>NaN</td>\n",
       "      <td>NaN</td>\n",
       "      <td>NaN</td>\n",
       "      <td>6.5 yr NIHPD Head</td>\n",
       "      <td>/scratch/brandon.nelson/demos/pediatric_ich_ca...</td>\n",
       "      <td>NaN</td>\n",
       "      <td>0.0</td>\n",
       "      <td>0.0</td>\n",
       "      <td>NaN</td>\n",
       "      <td>/scratch/brandon.nelson/demos/pediatric_ich_ca...</td>\n",
       "    </tr>\n",
       "    <tr>\n",
       "      <th>2</th>\n",
       "      <td>case_0024</td>\n",
       "      <td>6.5 yr NIHPD Head</td>\n",
       "      <td>Siemens_DefinitionFlash</td>\n",
       "      <td>120.0</td>\n",
       "      <td>300.0</td>\n",
       "      <td>0.0</td>\n",
       "      <td>1000.0</td>\n",
       "      <td>dynamic</td>\n",
       "      <td>soft</td>\n",
       "      <td>1</td>\n",
       "      <td>...</td>\n",
       "      <td>NaN</td>\n",
       "      <td>NaN</td>\n",
       "      <td>NaN</td>\n",
       "      <td>6.5 yr NIHPD Head</td>\n",
       "      <td>/scratch/brandon.nelson/demos/pediatric_ich_ca...</td>\n",
       "      <td>NaN</td>\n",
       "      <td>0.0</td>\n",
       "      <td>0.0</td>\n",
       "      <td>NaN</td>\n",
       "      <td>/scratch/brandon.nelson/demos/pediatric_ich_ca...</td>\n",
       "    </tr>\n",
       "    <tr>\n",
       "      <th>3</th>\n",
       "      <td>case_0024</td>\n",
       "      <td>6.5 yr NIHPD Head</td>\n",
       "      <td>Siemens_DefinitionFlash</td>\n",
       "      <td>120.0</td>\n",
       "      <td>300.0</td>\n",
       "      <td>0.0</td>\n",
       "      <td>1000.0</td>\n",
       "      <td>dynamic</td>\n",
       "      <td>soft</td>\n",
       "      <td>1</td>\n",
       "      <td>...</td>\n",
       "      <td>NaN</td>\n",
       "      <td>NaN</td>\n",
       "      <td>NaN</td>\n",
       "      <td>6.5 yr NIHPD Head</td>\n",
       "      <td>/scratch/brandon.nelson/demos/pediatric_ich_ca...</td>\n",
       "      <td>NaN</td>\n",
       "      <td>0.0</td>\n",
       "      <td>0.0</td>\n",
       "      <td>NaN</td>\n",
       "      <td>/scratch/brandon.nelson/demos/pediatric_ich_ca...</td>\n",
       "    </tr>\n",
       "    <tr>\n",
       "      <th>4</th>\n",
       "      <td>case_0024</td>\n",
       "      <td>6.5 yr NIHPD Head</td>\n",
       "      <td>Siemens_DefinitionFlash</td>\n",
       "      <td>120.0</td>\n",
       "      <td>300.0</td>\n",
       "      <td>0.0</td>\n",
       "      <td>1000.0</td>\n",
       "      <td>dynamic</td>\n",
       "      <td>soft</td>\n",
       "      <td>1</td>\n",
       "      <td>...</td>\n",
       "      <td>NaN</td>\n",
       "      <td>NaN</td>\n",
       "      <td>NaN</td>\n",
       "      <td>6.5 yr NIHPD Head</td>\n",
       "      <td>/scratch/brandon.nelson/demos/pediatric_ich_ca...</td>\n",
       "      <td>NaN</td>\n",
       "      <td>0.0</td>\n",
       "      <td>0.0</td>\n",
       "      <td>NaN</td>\n",
       "      <td>/scratch/brandon.nelson/demos/pediatric_ich_ca...</td>\n",
       "    </tr>\n",
       "    <tr>\n",
       "      <th>...</th>\n",
       "      <td>...</td>\n",
       "      <td>...</td>\n",
       "      <td>...</td>\n",
       "      <td>...</td>\n",
       "      <td>...</td>\n",
       "      <td>...</td>\n",
       "      <td>...</td>\n",
       "      <td>...</td>\n",
       "      <td>...</td>\n",
       "      <td>...</td>\n",
       "      <td>...</td>\n",
       "      <td>...</td>\n",
       "      <td>...</td>\n",
       "      <td>...</td>\n",
       "      <td>...</td>\n",
       "      <td>...</td>\n",
       "      <td>...</td>\n",
       "      <td>...</td>\n",
       "      <td>...</td>\n",
       "      <td>...</td>\n",
       "      <td>...</td>\n",
       "    </tr>\n",
       "    <tr>\n",
       "      <th>130</th>\n",
       "      <td>case_0043</td>\n",
       "      <td>15.75 yr NIHPD Head</td>\n",
       "      <td>Siemens_DefinitionFlash</td>\n",
       "      <td>120.0</td>\n",
       "      <td>300.0</td>\n",
       "      <td>0.0</td>\n",
       "      <td>1000.0</td>\n",
       "      <td>dynamic</td>\n",
       "      <td>soft</td>\n",
       "      <td>1</td>\n",
       "      <td>...</td>\n",
       "      <td>0.303803</td>\n",
       "      <td>0.253205</td>\n",
       "      <td>0.771701</td>\n",
       "      <td>15.75 yr NIHPD Head</td>\n",
       "      <td>/scratch/brandon.nelson/demos/pediatric_ich_ca...</td>\n",
       "      <td>NaN</td>\n",
       "      <td>0.0</td>\n",
       "      <td>0.0</td>\n",
       "      <td>NaN</td>\n",
       "      <td>/scratch/brandon.nelson/demos/pediatric_ich_ca...</td>\n",
       "    </tr>\n",
       "    <tr>\n",
       "      <th>131</th>\n",
       "      <td>case_0043</td>\n",
       "      <td>15.75 yr NIHPD Head</td>\n",
       "      <td>Siemens_DefinitionFlash</td>\n",
       "      <td>120.0</td>\n",
       "      <td>300.0</td>\n",
       "      <td>0.0</td>\n",
       "      <td>1000.0</td>\n",
       "      <td>dynamic</td>\n",
       "      <td>soft</td>\n",
       "      <td>1</td>\n",
       "      <td>...</td>\n",
       "      <td>0.303803</td>\n",
       "      <td>0.253205</td>\n",
       "      <td>0.771701</td>\n",
       "      <td>15.75 yr NIHPD Head</td>\n",
       "      <td>/scratch/brandon.nelson/demos/pediatric_ich_ca...</td>\n",
       "      <td>NaN</td>\n",
       "      <td>0.0</td>\n",
       "      <td>0.0</td>\n",
       "      <td>NaN</td>\n",
       "      <td>/scratch/brandon.nelson/demos/pediatric_ich_ca...</td>\n",
       "    </tr>\n",
       "    <tr>\n",
       "      <th>132</th>\n",
       "      <td>case_0043</td>\n",
       "      <td>15.75 yr NIHPD Head</td>\n",
       "      <td>Siemens_DefinitionFlash</td>\n",
       "      <td>120.0</td>\n",
       "      <td>300.0</td>\n",
       "      <td>0.0</td>\n",
       "      <td>1000.0</td>\n",
       "      <td>dynamic</td>\n",
       "      <td>soft</td>\n",
       "      <td>1</td>\n",
       "      <td>...</td>\n",
       "      <td>0.303803</td>\n",
       "      <td>0.253205</td>\n",
       "      <td>0.771701</td>\n",
       "      <td>15.75 yr NIHPD Head</td>\n",
       "      <td>/scratch/brandon.nelson/demos/pediatric_ich_ca...</td>\n",
       "      <td>NaN</td>\n",
       "      <td>0.0</td>\n",
       "      <td>0.0</td>\n",
       "      <td>NaN</td>\n",
       "      <td>/scratch/brandon.nelson/demos/pediatric_ich_ca...</td>\n",
       "    </tr>\n",
       "    <tr>\n",
       "      <th>133</th>\n",
       "      <td>case_0043</td>\n",
       "      <td>15.75 yr NIHPD Head</td>\n",
       "      <td>Siemens_DefinitionFlash</td>\n",
       "      <td>120.0</td>\n",
       "      <td>300.0</td>\n",
       "      <td>0.0</td>\n",
       "      <td>1000.0</td>\n",
       "      <td>dynamic</td>\n",
       "      <td>soft</td>\n",
       "      <td>1</td>\n",
       "      <td>...</td>\n",
       "      <td>0.303803</td>\n",
       "      <td>0.253205</td>\n",
       "      <td>0.771701</td>\n",
       "      <td>15.75 yr NIHPD Head</td>\n",
       "      <td>/scratch/brandon.nelson/demos/pediatric_ich_ca...</td>\n",
       "      <td>NaN</td>\n",
       "      <td>0.0</td>\n",
       "      <td>0.0</td>\n",
       "      <td>NaN</td>\n",
       "      <td>/scratch/brandon.nelson/demos/pediatric_ich_ca...</td>\n",
       "    </tr>\n",
       "    <tr>\n",
       "      <th>134</th>\n",
       "      <td>case_0043</td>\n",
       "      <td>15.75 yr NIHPD Head</td>\n",
       "      <td>Siemens_DefinitionFlash</td>\n",
       "      <td>120.0</td>\n",
       "      <td>300.0</td>\n",
       "      <td>0.0</td>\n",
       "      <td>1000.0</td>\n",
       "      <td>dynamic</td>\n",
       "      <td>soft</td>\n",
       "      <td>1</td>\n",
       "      <td>...</td>\n",
       "      <td>0.303803</td>\n",
       "      <td>0.253205</td>\n",
       "      <td>0.771701</td>\n",
       "      <td>15.75 yr NIHPD Head</td>\n",
       "      <td>/scratch/brandon.nelson/demos/pediatric_ich_ca...</td>\n",
       "      <td>NaN</td>\n",
       "      <td>0.0</td>\n",
       "      <td>0.0</td>\n",
       "      <td>NaN</td>\n",
       "      <td>/scratch/brandon.nelson/demos/pediatric_ich_ca...</td>\n",
       "    </tr>\n",
       "  </tbody>\n",
       "</table>\n",
       "<p>6830 rows × 37 columns</p>\n",
       "</div>"
      ],
      "text/plain": [
       "       case_id              phantom            scanner_model    kVp     mA  \\\n",
       "0    case_0024    6.5 yr NIHPD Head  Siemens_DefinitionFlash  120.0  300.0   \n",
       "1    case_0024    6.5 yr NIHPD Head  Siemens_DefinitionFlash  120.0  300.0   \n",
       "2    case_0024    6.5 yr NIHPD Head  Siemens_DefinitionFlash  120.0  300.0   \n",
       "3    case_0024    6.5 yr NIHPD Head  Siemens_DefinitionFlash  120.0  300.0   \n",
       "4    case_0024    6.5 yr NIHPD Head  Siemens_DefinitionFlash  120.0  300.0   \n",
       "..         ...                  ...                      ...    ...    ...   \n",
       "130  case_0043  15.75 yr NIHPD Head  Siemens_DefinitionFlash  120.0  300.0   \n",
       "131  case_0043  15.75 yr NIHPD Head  Siemens_DefinitionFlash  120.0  300.0   \n",
       "132  case_0043  15.75 yr NIHPD Head  Siemens_DefinitionFlash  120.0  300.0   \n",
       "133  case_0043  15.75 yr NIHPD Head  Siemens_DefinitionFlash  120.0  300.0   \n",
       "134  case_0043  15.75 yr NIHPD Head  Siemens_DefinitionFlash  120.0  300.0   \n",
       "\n",
       "     pitch   views scan_coverage recon_kernel  slice_thickness  ...  \\\n",
       "0      0.0  1000.0       dynamic         soft                1  ...   \n",
       "1      0.0  1000.0       dynamic         soft                1  ...   \n",
       "2      0.0  1000.0       dynamic         soft                1  ...   \n",
       "3      0.0  1000.0       dynamic         soft                1  ...   \n",
       "4      0.0  1000.0       dynamic         soft                1  ...   \n",
       "..     ...     ...           ...          ...              ...  ...   \n",
       "130    0.0  1000.0       dynamic         soft                1  ...   \n",
       "131    0.0  1000.0       dynamic         soft                1  ...   \n",
       "132    0.0  1000.0       dynamic         soft                1  ...   \n",
       "133    0.0  1000.0       dynamic         soft                1  ...   \n",
       "134    0.0  1000.0       dynamic         soft                1  ...   \n",
       "\n",
       "     smoothness  irregularity  eccentricity                 name  \\\n",
       "0           NaN           NaN           NaN    6.5 yr NIHPD Head   \n",
       "1           NaN           NaN           NaN    6.5 yr NIHPD Head   \n",
       "2           NaN           NaN           NaN    6.5 yr NIHPD Head   \n",
       "3           NaN           NaN           NaN    6.5 yr NIHPD Head   \n",
       "4           NaN           NaN           NaN    6.5 yr NIHPD Head   \n",
       "..          ...           ...           ...                  ...   \n",
       "130    0.303803      0.253205      0.771701  15.75 yr NIHPD Head   \n",
       "131    0.303803      0.253205      0.771701  15.75 yr NIHPD Head   \n",
       "132    0.303803      0.253205      0.771701  15.75 yr NIHPD Head   \n",
       "133    0.303803      0.253205      0.771701  15.75 yr NIHPD Head   \n",
       "134    0.303803      0.253205      0.771701  15.75 yr NIHPD Head   \n",
       "\n",
       "                                       image_file_path  lesion  \\\n",
       "0    /scratch/brandon.nelson/demos/pediatric_ich_ca...     NaN   \n",
       "1    /scratch/brandon.nelson/demos/pediatric_ich_ca...     NaN   \n",
       "2    /scratch/brandon.nelson/demos/pediatric_ich_ca...     NaN   \n",
       "3    /scratch/brandon.nelson/demos/pediatric_ich_ca...     NaN   \n",
       "4    /scratch/brandon.nelson/demos/pediatric_ich_ca...     NaN   \n",
       "..                                                 ...     ...   \n",
       "130  /scratch/brandon.nelson/demos/pediatric_ich_ca...     NaN   \n",
       "131  /scratch/brandon.nelson/demos/pediatric_ich_ca...     NaN   \n",
       "132  /scratch/brandon.nelson/demos/pediatric_ich_ca...     NaN   \n",
       "133  /scratch/brandon.nelson/demos/pediatric_ich_ca...     NaN   \n",
       "134  /scratch/brandon.nelson/demos/pediatric_ich_ca...     NaN   \n",
       "\n",
       "    lesion_volume(mL)  lesion_attenuation(HU)  lesion_location(z,y,x)  \\\n",
       "0                 0.0                     0.0                     NaN   \n",
       "1                 0.0                     0.0                     NaN   \n",
       "2                 0.0                     0.0                     NaN   \n",
       "3                 0.0                     0.0                     NaN   \n",
       "4                 0.0                     0.0                     NaN   \n",
       "..                ...                     ...                     ...   \n",
       "130               0.0                     0.0                     NaN   \n",
       "131               0.0                     0.0                     NaN   \n",
       "132               0.0                     0.0                     NaN   \n",
       "133               0.0                     0.0                     NaN   \n",
       "134               0.0                     0.0                     NaN   \n",
       "\n",
       "                                        mask_file_path  \n",
       "0    /scratch/brandon.nelson/demos/pediatric_ich_ca...  \n",
       "1    /scratch/brandon.nelson/demos/pediatric_ich_ca...  \n",
       "2    /scratch/brandon.nelson/demos/pediatric_ich_ca...  \n",
       "3    /scratch/brandon.nelson/demos/pediatric_ich_ca...  \n",
       "4    /scratch/brandon.nelson/demos/pediatric_ich_ca...  \n",
       "..                                                 ...  \n",
       "130  /scratch/brandon.nelson/demos/pediatric_ich_ca...  \n",
       "131  /scratch/brandon.nelson/demos/pediatric_ich_ca...  \n",
       "132  /scratch/brandon.nelson/demos/pediatric_ich_ca...  \n",
       "133  /scratch/brandon.nelson/demos/pediatric_ich_ca...  \n",
       "134  /scratch/brandon.nelson/demos/pediatric_ich_ca...  \n",
       "\n",
       "[6830 rows x 37 columns]"
      ]
     },
     "execution_count": 48,
     "metadata": {},
     "output_type": "execute_result"
    }
   ],
   "source": [
    "synth_dir = Path(synth_dir)\n",
    "results = pd.concat([pd.read_csv(o) for o in synth_dir.rglob('*.csv')])\n",
    "results"
   ]
  },
  {
   "cell_type": "code",
   "execution_count": null,
   "metadata": {},
   "outputs": [
    {
     "data": {
      "text/html": [
       "<div>\n",
       "<style scoped>\n",
       "    .dataframe tbody tr th:only-of-type {\n",
       "        vertical-align: middle;\n",
       "    }\n",
       "\n",
       "    .dataframe tbody tr th {\n",
       "        vertical-align: top;\n",
       "    }\n",
       "\n",
       "    .dataframe thead th {\n",
       "        text-align: right;\n",
       "    }\n",
       "</style>\n",
       "<table border=\"1\" class=\"dataframe\">\n",
       "  <thead>\n",
       "    <tr style=\"text-align: right;\">\n",
       "      <th></th>\n",
       "      <th>Epidural</th>\n",
       "      <th>Intraparenchymal</th>\n",
       "      <th>Subdural</th>\n",
       "    </tr>\n",
       "  </thead>\n",
       "  <tbody>\n",
       "    <tr>\n",
       "      <th>0</th>\n",
       "      <td>1.0</td>\n",
       "      <td>0.0</td>\n",
       "      <td>0.0</td>\n",
       "    </tr>\n",
       "    <tr>\n",
       "      <th>1</th>\n",
       "      <td>1.0</td>\n",
       "      <td>0.0</td>\n",
       "      <td>0.0</td>\n",
       "    </tr>\n",
       "    <tr>\n",
       "      <th>2</th>\n",
       "      <td>1.0</td>\n",
       "      <td>0.0</td>\n",
       "      <td>0.0</td>\n",
       "    </tr>\n",
       "    <tr>\n",
       "      <th>3</th>\n",
       "      <td>1.0</td>\n",
       "      <td>0.0</td>\n",
       "      <td>0.0</td>\n",
       "    </tr>\n",
       "    <tr>\n",
       "      <th>4</th>\n",
       "      <td>1.0</td>\n",
       "      <td>0.0</td>\n",
       "      <td>0.0</td>\n",
       "    </tr>\n",
       "    <tr>\n",
       "      <th>...</th>\n",
       "      <td>...</td>\n",
       "      <td>...</td>\n",
       "      <td>...</td>\n",
       "    </tr>\n",
       "    <tr>\n",
       "      <th>130</th>\n",
       "      <td>0.0</td>\n",
       "      <td>1.0</td>\n",
       "      <td>0.0</td>\n",
       "    </tr>\n",
       "    <tr>\n",
       "      <th>131</th>\n",
       "      <td>0.0</td>\n",
       "      <td>1.0</td>\n",
       "      <td>0.0</td>\n",
       "    </tr>\n",
       "    <tr>\n",
       "      <th>132</th>\n",
       "      <td>0.0</td>\n",
       "      <td>1.0</td>\n",
       "      <td>0.0</td>\n",
       "    </tr>\n",
       "    <tr>\n",
       "      <th>133</th>\n",
       "      <td>0.0</td>\n",
       "      <td>1.0</td>\n",
       "      <td>0.0</td>\n",
       "    </tr>\n",
       "    <tr>\n",
       "      <th>134</th>\n",
       "      <td>0.0</td>\n",
       "      <td>1.0</td>\n",
       "      <td>0.0</td>\n",
       "    </tr>\n",
       "  </tbody>\n",
       "</table>\n",
       "<p>6830 rows × 3 columns</p>\n",
       "</div>"
      ],
      "text/plain": [
       "     Epidural  Intraparenchymal  Subdural\n",
       "0         1.0               0.0       0.0\n",
       "1         1.0               0.0       0.0\n",
       "2         1.0               0.0       0.0\n",
       "3         1.0               0.0       0.0\n",
       "4         1.0               0.0       0.0\n",
       "..        ...               ...       ...\n",
       "130       0.0               1.0       0.0\n",
       "131       0.0               1.0       0.0\n",
       "132       0.0               1.0       0.0\n",
       "133       0.0               1.0       0.0\n",
       "134       0.0               1.0       0.0\n",
       "\n",
       "[6830 rows x 3 columns]"
      ]
     },
     "execution_count": 61,
     "metadata": {},
     "output_type": "execute_result"
    }
   ],
   "source": []
  },
  {
   "cell_type": "markdown",
   "metadata": {},
   "source": [
    "# CAD module"
   ]
  },
  {
   "cell_type": "code",
   "execution_count": 6,
   "metadata": {},
   "outputs": [],
   "source": [
    "from model_utils import InferenceManager"
   ]
  },
  {
   "cell_type": "code",
   "execution_count": 7,
   "metadata": {},
   "outputs": [],
   "source": [
    "from model_utils import download_and_unzip\n",
    "from dotenv import load_dotenv\n",
    "import os\n",
    "load_dotenv()\n",
    "\n",
    "model_path = Path(os.environ['MODEL_PATH'])\n",
    "if not model_path.exists():\n",
    "    download_and_unzip('https://zenodo.org/records/15750437/files/model_files.zip', extract_to=model_path.parents[1]) "
   ]
  },
  {
   "cell_type": "code",
   "execution_count": 8,
   "metadata": {},
   "outputs": [
    {
     "data": {
      "text/plain": [
       "{'CAD_1': PosixPath('/scratch/brandon.nelson/demos/pediatric_ich_cadt/model_files/model_files/CAD_1/resnext101_32x8d_wsl_checkpoint.pth'),\n",
       " 'CAD_2': PosixPath('/scratch/brandon.nelson/demos/pediatric_ich_cadt/model_files/model_files/CAD_2/resnext101_32x8d_wsl_checkpoint.pth'),\n",
       " 'CAD_3': PosixPath('/scratch/brandon.nelson/demos/pediatric_ich_cadt/model_files/model_files/CAD_3/resnext101_32x8d_wsl_checkpoint.pth')}"
      ]
     },
     "execution_count": 8,
     "metadata": {},
     "output_type": "execute_result"
    }
   ],
   "source": [
    "models = {m.parts[-2]: m for m in sorted(list(model_path.rglob('*.pth')))}\n",
    "models"
   ]
  },
  {
   "cell_type": "code",
   "execution_count": 9,
   "metadata": {},
   "outputs": [
    {
     "ename": "RuntimeError",
     "evalue": "Attempting to deserialize object on a CUDA device but torch.cuda.is_available() is False. If you are running on a CPU-only machine, please use torch.load with map_location=torch.device('cpu') to map your storages to the CPU.",
     "output_type": "error",
     "traceback": [
      "\u001b[31m---------------------------------------------------------------------------\u001b[39m",
      "\u001b[31mRuntimeError\u001b[39m                              Traceback (most recent call last)",
      "\u001b[36mCell\u001b[39m\u001b[36m \u001b[39m\u001b[32mIn[9]\u001b[39m\u001b[32m, line 1\u001b[39m\n\u001b[32m----> \u001b[39m\u001b[32m1\u001b[39m manager = \u001b[43mInferenceManager\u001b[49m\u001b[43m(\u001b[49m\u001b[43mmodels\u001b[49m\u001b[43m[\u001b[49m\u001b[33;43m'\u001b[39;49m\u001b[33;43mCAD_1\u001b[39;49m\u001b[33;43m'\u001b[39;49m\u001b[43m]\u001b[49m\u001b[43m)\u001b[49m\n\u001b[32m      2\u001b[39m manager\n",
      "\u001b[36mFile \u001b[39m\u001b[32m/scratch/brandon.nelson/demos/pediatric_ich_cadt/model_utils.py:382\u001b[39m, in \u001b[36mInferenceManager.__init__\u001b[39m\u001b[34m(self, model_path, device)\u001b[39m\n\u001b[32m    380\u001b[39m std_img = [\u001b[32m0.32451536\u001b[39m, \u001b[32m0.2956294\u001b[39m, \u001b[32m0.31335256\u001b[39m]\n\u001b[32m    381\u001b[39m \u001b[38;5;28mself\u001b[39m.transform = A.Normalize(mean=mean_img, std=std_img, max_pixel_value=\u001b[32m255.0\u001b[39m, p=\u001b[32m1.0\u001b[39m)\n\u001b[32m--> \u001b[39m\u001b[32m382\u001b[39m \u001b[38;5;28;43mself\u001b[39;49m\u001b[43m.\u001b[49m\u001b[43m_load_models\u001b[49m\u001b[43m(\u001b[49m\u001b[43m)\u001b[49m\n\u001b[32m    383\u001b[39m \u001b[38;5;28mself\u001b[39m.patient_images = \u001b[38;5;28;01mNone\u001b[39;00m\n\u001b[32m    384\u001b[39m \u001b[38;5;28mself\u001b[39m.patient_predictions = \u001b[38;5;28;01mNone\u001b[39;00m\n",
      "\u001b[36mFile \u001b[39m\u001b[32m/scratch/brandon.nelson/demos/pediatric_ich_cadt/model_utils.py:388\u001b[39m, in \u001b[36mInferenceManager._load_models\u001b[39m\u001b[34m(self)\u001b[39m\n\u001b[32m    386\u001b[39m \u001b[38;5;28;01mdef\u001b[39;00m\u001b[38;5;250m \u001b[39m\u001b[34m_load_models\u001b[39m(\u001b[38;5;28mself\u001b[39m):\n\u001b[32m    387\u001b[39m     \u001b[38;5;66;03m# Load classifier model\u001b[39;00m\n\u001b[32m--> \u001b[39m\u001b[32m388\u001b[39m     \u001b[38;5;28mself\u001b[39m.classifier_model = \u001b[43mtorch\u001b[49m\u001b[43m.\u001b[49m\u001b[43mload\u001b[49m\u001b[43m(\u001b[49m\u001b[38;5;28;43mself\u001b[39;49m\u001b[43m.\u001b[49m\u001b[43mmodel_path\u001b[49m\u001b[43m,\u001b[49m\u001b[43m \u001b[49m\u001b[43mweights_only\u001b[49m\u001b[43m=\u001b[49m\u001b[38;5;28;43;01mFalse\u001b[39;49;00m\u001b[43m,\u001b[49m\u001b[43m \u001b[49m\u001b[43mmap_location\u001b[49m\u001b[43m=\u001b[49m\u001b[38;5;28;43mself\u001b[39;49m\u001b[43m.\u001b[49m\u001b[43mdevice\u001b[49m\u001b[43m)\u001b[49m\n\u001b[32m    389\u001b[39m     \u001b[38;5;28mself\u001b[39m.classifier_model.fc = nn.Linear(\u001b[32m2048\u001b[39m, \u001b[32m6\u001b[39m)\n\u001b[32m    390\u001b[39m     \u001b[38;5;28mself\u001b[39m.classifier_model.to(\u001b[38;5;28mself\u001b[39m.device)\n",
      "\u001b[36mFile \u001b[39m\u001b[32m/scratch/brandon.nelson/demos/pediatric_ich_cadt/.demo/lib/python3.13/site-packages/torch/serialization.py:1530\u001b[39m, in \u001b[36mload\u001b[39m\u001b[34m(f, map_location, pickle_module, weights_only, mmap, **pickle_load_args)\u001b[39m\n\u001b[32m   1528\u001b[39m             \u001b[38;5;28;01mexcept\u001b[39;00m pickle.UnpicklingError \u001b[38;5;28;01mas\u001b[39;00m e:\n\u001b[32m   1529\u001b[39m                 \u001b[38;5;28;01mraise\u001b[39;00m pickle.UnpicklingError(_get_wo_message(\u001b[38;5;28mstr\u001b[39m(e))) \u001b[38;5;28;01mfrom\u001b[39;00m\u001b[38;5;250m \u001b[39m\u001b[38;5;28;01mNone\u001b[39;00m\n\u001b[32m-> \u001b[39m\u001b[32m1530\u001b[39m         \u001b[38;5;28;01mreturn\u001b[39;00m \u001b[43m_load\u001b[49m\u001b[43m(\u001b[49m\n\u001b[32m   1531\u001b[39m \u001b[43m            \u001b[49m\u001b[43mopened_zipfile\u001b[49m\u001b[43m,\u001b[49m\n\u001b[32m   1532\u001b[39m \u001b[43m            \u001b[49m\u001b[43mmap_location\u001b[49m\u001b[43m,\u001b[49m\n\u001b[32m   1533\u001b[39m \u001b[43m            \u001b[49m\u001b[43mpickle_module\u001b[49m\u001b[43m,\u001b[49m\n\u001b[32m   1534\u001b[39m \u001b[43m            \u001b[49m\u001b[43moverall_storage\u001b[49m\u001b[43m=\u001b[49m\u001b[43moverall_storage\u001b[49m\u001b[43m,\u001b[49m\n\u001b[32m   1535\u001b[39m \u001b[43m            \u001b[49m\u001b[43m*\u001b[49m\u001b[43m*\u001b[49m\u001b[43mpickle_load_args\u001b[49m\u001b[43m,\u001b[49m\n\u001b[32m   1536\u001b[39m \u001b[43m        \u001b[49m\u001b[43m)\u001b[49m\n\u001b[32m   1537\u001b[39m \u001b[38;5;28;01mif\u001b[39;00m mmap:\n\u001b[32m   1538\u001b[39m     f_name = \u001b[33m\"\u001b[39m\u001b[33m\"\u001b[39m \u001b[38;5;28;01mif\u001b[39;00m \u001b[38;5;129;01mnot\u001b[39;00m \u001b[38;5;28misinstance\u001b[39m(f, \u001b[38;5;28mstr\u001b[39m) \u001b[38;5;28;01melse\u001b[39;00m \u001b[33mf\u001b[39m\u001b[33m\"\u001b[39m\u001b[38;5;132;01m{\u001b[39;00mf\u001b[38;5;132;01m}\u001b[39;00m\u001b[33m, \u001b[39m\u001b[33m\"\u001b[39m\n",
      "\u001b[36mFile \u001b[39m\u001b[32m/scratch/brandon.nelson/demos/pediatric_ich_cadt/.demo/lib/python3.13/site-packages/torch/serialization.py:2122\u001b[39m, in \u001b[36m_load\u001b[39m\u001b[34m(zip_file, map_location, pickle_module, pickle_file, overall_storage, **pickle_load_args)\u001b[39m\n\u001b[32m   2120\u001b[39m \u001b[38;5;28;01mglobal\u001b[39;00m _serialization_tls\n\u001b[32m   2121\u001b[39m _serialization_tls.map_location = map_location\n\u001b[32m-> \u001b[39m\u001b[32m2122\u001b[39m result = \u001b[43munpickler\u001b[49m\u001b[43m.\u001b[49m\u001b[43mload\u001b[49m\u001b[43m(\u001b[49m\u001b[43m)\u001b[49m\n\u001b[32m   2123\u001b[39m _serialization_tls.map_location = \u001b[38;5;28;01mNone\u001b[39;00m\n\u001b[32m   2125\u001b[39m torch._utils._validate_loaded_sparse_tensors()\n",
      "\u001b[36mFile \u001b[39m\u001b[32m/scratch/brandon.nelson/demos/pediatric_ich_cadt/.demo/lib/python3.13/site-packages/torch/serialization.py:2086\u001b[39m, in \u001b[36m_load.<locals>.persistent_load\u001b[39m\u001b[34m(saved_id)\u001b[39m\n\u001b[32m   2084\u001b[39m \u001b[38;5;28;01melse\u001b[39;00m:\n\u001b[32m   2085\u001b[39m     nbytes = numel * torch._utils._element_size(dtype)\n\u001b[32m-> \u001b[39m\u001b[32m2086\u001b[39m     typed_storage = \u001b[43mload_tensor\u001b[49m\u001b[43m(\u001b[49m\n\u001b[32m   2087\u001b[39m \u001b[43m        \u001b[49m\u001b[43mdtype\u001b[49m\u001b[43m,\u001b[49m\u001b[43m \u001b[49m\u001b[43mnbytes\u001b[49m\u001b[43m,\u001b[49m\u001b[43m \u001b[49m\u001b[43mkey\u001b[49m\u001b[43m,\u001b[49m\u001b[43m \u001b[49m\u001b[43m_maybe_decode_ascii\u001b[49m\u001b[43m(\u001b[49m\u001b[43mlocation\u001b[49m\u001b[43m)\u001b[49m\n\u001b[32m   2088\u001b[39m \u001b[43m    \u001b[49m\u001b[43m)\u001b[49m\n\u001b[32m   2090\u001b[39m \u001b[38;5;28;01mreturn\u001b[39;00m typed_storage\n",
      "\u001b[36mFile \u001b[39m\u001b[32m/scratch/brandon.nelson/demos/pediatric_ich_cadt/.demo/lib/python3.13/site-packages/torch/serialization.py:2052\u001b[39m, in \u001b[36m_load.<locals>.load_tensor\u001b[39m\u001b[34m(dtype, numel, key, location)\u001b[39m\n\u001b[32m   2048\u001b[39m \u001b[38;5;66;03m# TODO: Once we decide to break serialization FC, we can\u001b[39;00m\n\u001b[32m   2049\u001b[39m \u001b[38;5;66;03m# stop wrapping with TypedStorage\u001b[39;00m\n\u001b[32m   2051\u001b[39m \u001b[38;5;28;01mif\u001b[39;00m torch._guards.detect_fake_mode(\u001b[38;5;28;01mNone\u001b[39;00m) \u001b[38;5;129;01mis\u001b[39;00m \u001b[38;5;28;01mNone\u001b[39;00m:\n\u001b[32m-> \u001b[39m\u001b[32m2052\u001b[39m     wrap_storage = \u001b[43mrestore_location\u001b[49m\u001b[43m(\u001b[49m\u001b[43mstorage\u001b[49m\u001b[43m,\u001b[49m\u001b[43m \u001b[49m\u001b[43mlocation\u001b[49m\u001b[43m)\u001b[49m\n\u001b[32m   2053\u001b[39m \u001b[38;5;28;01melse\u001b[39;00m:\n\u001b[32m   2054\u001b[39m     storage._fake_device = location\n",
      "\u001b[36mFile \u001b[39m\u001b[32m/scratch/brandon.nelson/demos/pediatric_ich_cadt/.demo/lib/python3.13/site-packages/torch/serialization.py:1859\u001b[39m, in \u001b[36m_get_restore_location.<locals>.restore_location\u001b[39m\u001b[34m(storage, location)\u001b[39m\n\u001b[32m   1858\u001b[39m \u001b[38;5;28;01mdef\u001b[39;00m\u001b[38;5;250m \u001b[39m\u001b[34mrestore_location\u001b[39m(storage, location):\n\u001b[32m-> \u001b[39m\u001b[32m1859\u001b[39m     \u001b[38;5;28;01mreturn\u001b[39;00m \u001b[43mdefault_restore_location\u001b[49m\u001b[43m(\u001b[49m\u001b[43mstorage\u001b[49m\u001b[43m,\u001b[49m\u001b[43m \u001b[49m\u001b[43mmap_location\u001b[49m\u001b[43m)\u001b[49m\n",
      "\u001b[36mFile \u001b[39m\u001b[32m/scratch/brandon.nelson/demos/pediatric_ich_cadt/.demo/lib/python3.13/site-packages/torch/serialization.py:698\u001b[39m, in \u001b[36mdefault_restore_location\u001b[39m\u001b[34m(storage, location)\u001b[39m\n\u001b[32m    678\u001b[39m \u001b[38;5;250m\u001b[39m\u001b[33;03m\"\"\"\u001b[39;00m\n\u001b[32m    679\u001b[39m \u001b[33;03mRestores `storage` using a deserializer function registered for the `location`.\u001b[39;00m\n\u001b[32m    680\u001b[39m \n\u001b[32m   (...)\u001b[39m\u001b[32m    695\u001b[39m \u001b[33;03m       all matching ones return `None`.\u001b[39;00m\n\u001b[32m    696\u001b[39m \u001b[33;03m\"\"\"\u001b[39;00m\n\u001b[32m    697\u001b[39m \u001b[38;5;28;01mfor\u001b[39;00m _, _, fn \u001b[38;5;129;01min\u001b[39;00m _package_registry:\n\u001b[32m--> \u001b[39m\u001b[32m698\u001b[39m     result = \u001b[43mfn\u001b[49m\u001b[43m(\u001b[49m\u001b[43mstorage\u001b[49m\u001b[43m,\u001b[49m\u001b[43m \u001b[49m\u001b[43mlocation\u001b[49m\u001b[43m)\u001b[49m\n\u001b[32m    699\u001b[39m     \u001b[38;5;28;01mif\u001b[39;00m result \u001b[38;5;129;01mis\u001b[39;00m \u001b[38;5;129;01mnot\u001b[39;00m \u001b[38;5;28;01mNone\u001b[39;00m:\n\u001b[32m    700\u001b[39m         \u001b[38;5;28;01mreturn\u001b[39;00m result\n",
      "\u001b[36mFile \u001b[39m\u001b[32m/scratch/brandon.nelson/demos/pediatric_ich_cadt/.demo/lib/python3.13/site-packages/torch/serialization.py:636\u001b[39m, in \u001b[36m_deserialize\u001b[39m\u001b[34m(backend_name, obj, location)\u001b[39m\n\u001b[32m    634\u001b[39m     backend_name = torch._C._get_privateuse1_backend_name()\n\u001b[32m    635\u001b[39m \u001b[38;5;28;01mif\u001b[39;00m location.startswith(backend_name):\n\u001b[32m--> \u001b[39m\u001b[32m636\u001b[39m     device = \u001b[43m_validate_device\u001b[49m\u001b[43m(\u001b[49m\u001b[43mlocation\u001b[49m\u001b[43m,\u001b[49m\u001b[43m \u001b[49m\u001b[43mbackend_name\u001b[49m\u001b[43m)\u001b[49m\n\u001b[32m    637\u001b[39m     \u001b[38;5;28;01mreturn\u001b[39;00m obj.to(device=device)\n",
      "\u001b[36mFile \u001b[39m\u001b[32m/scratch/brandon.nelson/demos/pediatric_ich_cadt/.demo/lib/python3.13/site-packages/torch/serialization.py:605\u001b[39m, in \u001b[36m_validate_device\u001b[39m\u001b[34m(location, backend_name)\u001b[39m\n\u001b[32m    603\u001b[39m     device_index = device.index \u001b[38;5;28;01mif\u001b[39;00m device.index \u001b[38;5;28;01melse\u001b[39;00m \u001b[32m0\u001b[39m\n\u001b[32m    604\u001b[39m \u001b[38;5;28;01mif\u001b[39;00m \u001b[38;5;28mhasattr\u001b[39m(device_module, \u001b[33m\"\u001b[39m\u001b[33mis_available\u001b[39m\u001b[33m\"\u001b[39m) \u001b[38;5;129;01mand\u001b[39;00m \u001b[38;5;129;01mnot\u001b[39;00m device_module.is_available():\n\u001b[32m--> \u001b[39m\u001b[32m605\u001b[39m     \u001b[38;5;28;01mraise\u001b[39;00m \u001b[38;5;167;01mRuntimeError\u001b[39;00m(\n\u001b[32m    606\u001b[39m         \u001b[33mf\u001b[39m\u001b[33m\"\u001b[39m\u001b[33mAttempting to deserialize object on a \u001b[39m\u001b[38;5;132;01m{\u001b[39;00mbackend_name.upper()\u001b[38;5;132;01m}\u001b[39;00m\u001b[33m \u001b[39m\u001b[33m\"\u001b[39m\n\u001b[32m    607\u001b[39m         \u001b[33mf\u001b[39m\u001b[33m\"\u001b[39m\u001b[33mdevice but torch.\u001b[39m\u001b[38;5;132;01m{\u001b[39;00mbackend_name\u001b[38;5;132;01m}\u001b[39;00m\u001b[33m.is_available() is False. \u001b[39m\u001b[33m\"\u001b[39m\n\u001b[32m    608\u001b[39m         \u001b[33m\"\u001b[39m\u001b[33mIf you are running on a CPU-only machine, \u001b[39m\u001b[33m\"\u001b[39m\n\u001b[32m    609\u001b[39m         \u001b[33m\"\u001b[39m\u001b[33mplease use torch.load with map_location=torch.device(\u001b[39m\u001b[33m'\u001b[39m\u001b[33mcpu\u001b[39m\u001b[33m'\u001b[39m\u001b[33m) \u001b[39m\u001b[33m\"\u001b[39m\n\u001b[32m    610\u001b[39m         \u001b[33m\"\u001b[39m\u001b[33mto map your storages to the CPU.\u001b[39m\u001b[33m\"\u001b[39m\n\u001b[32m    611\u001b[39m     )\n\u001b[32m    612\u001b[39m \u001b[38;5;28;01mif\u001b[39;00m \u001b[38;5;28mhasattr\u001b[39m(device_module, \u001b[33m\"\u001b[39m\u001b[33mdevice_count\u001b[39m\u001b[33m\"\u001b[39m):\n\u001b[32m    613\u001b[39m     device_count = device_module.device_count()\n",
      "\u001b[31mRuntimeError\u001b[39m: Attempting to deserialize object on a CUDA device but torch.cuda.is_available() is False. If you are running on a CPU-only machine, please use torch.load with map_location=torch.device('cpu') to map your storages to the CPU."
     ]
    }
   ],
   "source": [
    "manager = InferenceManager(models['CAD_1'])\n",
    "manager"
   ]
  },
  {
   "cell_type": "code",
   "execution_count": null,
   "metadata": {},
   "outputs": [
    {
     "data": {
      "text/plain": [
       "(36, 512, 512)"
      ]
     },
     "execution_count": 6,
     "metadata": {},
     "output_type": "execute_result"
    }
   ],
   "source": [
    "import nibabel as nib\n",
    "\n",
    "# labels for the model output\n",
    "\n",
    "patient = patients.iloc[0]\n",
    "images = nib.load(patient['file']).get_fdata().transpose(2, 1, 0)[:, ::-1]\n",
    "images.shape"
   ]
  },
  {
   "cell_type": "code",
   "execution_count": null,
   "metadata": {},
   "outputs": [],
   "source": [
    "manager.load_patient(images)"
   ]
  },
  {
   "cell_type": "code",
   "execution_count": null,
   "metadata": {},
   "outputs": [
    {
     "data": {
      "text/plain": [
       "{'EDH': np.float32(6.1869856e-09),\n",
       " 'IPH': np.float32(8.2662766e-08),\n",
       " 'IVH': np.float32(2.492643e-11),\n",
       " 'SAH': np.float32(3.7364037e-10),\n",
       " 'SDH': np.float32(7.4378756e-09),\n",
       " 'Any': np.float32(4.6369966e-08)}"
      ]
     },
     "execution_count": 8,
     "metadata": {},
     "output_type": "execute_result"
    }
   ],
   "source": [
    "manager.get_slice_prediction(1)"
   ]
  },
  {
   "cell_type": "code",
   "execution_count": null,
   "metadata": {},
   "outputs": [],
   "source": [
    "def normalize(img, vmin=None, vmax=None):\n",
    "    if vmin is not None:\n",
    "        img = np.clip(img, a_min=vmin, a_max=vmax)\n",
    "    return (img - img.min()) / (img.max() - img.min())"
   ]
  },
  {
   "cell_type": "code",
   "execution_count": null,
   "metadata": {},
   "outputs": [
    {
     "data": {
      "text/plain": [
       "(np.float64(-1020.0), np.float64(2101.0))"
      ]
     },
     "execution_count": 10,
     "metadata": {},
     "output_type": "execute_result"
    }
   ],
   "source": [
    "images.min(), images.max()"
   ]
  },
  {
   "cell_type": "code",
   "execution_count": null,
   "metadata": {},
   "outputs": [
    {
     "data": {
      "text/plain": [
       "(512, 512)"
      ]
     },
     "execution_count": 11,
     "metadata": {},
     "output_type": "execute_result"
    }
   ],
   "source": [
    "slice_num = 0\n",
    "width = 2\n",
    "image = np.mean(images[slice_num:slice_num + width], axis=0)\n",
    "image = normalize(image)\n",
    "image.shape"
   ]
  },
  {
   "cell_type": "code",
   "execution_count": null,
   "metadata": {},
   "outputs": [],
   "source": [
    "import PIL"
   ]
  },
  {
   "cell_type": "code",
   "execution_count": null,
   "metadata": {},
   "outputs": [
    {
     "data": {
      "text/plain": [
       "<PIL.Image.Image image mode=F size=512x512>"
      ]
     },
     "metadata": {},
     "output_type": "display_data"
    }
   ],
   "source": [
    "from IPython.display import display\n",
    "img = PIL.Image.fromarray(image)\n",
    "display(img)"
   ]
  },
  {
   "cell_type": "code",
   "execution_count": null,
   "metadata": {},
   "outputs": [
    {
     "data": {
      "text/plain": [
       "(np.float64(0.0), np.float64(1.0))"
      ]
     },
     "execution_count": 14,
     "metadata": {},
     "output_type": "execute_result"
    }
   ],
   "source": [
    "images_norm = normalize(images)\n",
    "images_norm.min(), images_norm.max()"
   ]
  },
  {
   "cell_type": "code",
   "execution_count": null,
   "metadata": {},
   "outputs": [
    {
     "data": {
      "image/png": "[encoded data removed]",
      "text/plain": [
       "<Figure size 1500x600 with 2 Axes>"
      ]
     },
     "metadata": {},
     "output_type": "display_data"
    }
   ],
   "source": [
    "import numpy as np\n",
    "import matplotlib.pyplot as plt\n",
    "from model_utils import predict_image\n",
    "\n",
    "import albumentations as A\n",
    "import torch\n",
    "import nibabel as nib\n",
    "\n",
    "# labels for the model output\n",
    "\n",
    "patient = patients.iloc[0]\n",
    "images = nib.load(patient['file']).get_fdata().transpose(2, 1, 0)[:, ::-1]\n",
    "name = patient['name']\n",
    "age = patient['age']\n",
    "\n",
    "def ict_pipeline(slice_num, width=5, model_name='CAD_1'):\n",
    "\n",
    "    image = np.mean(images[slice_num:slice_num+width], axis=0) # create average\n",
    "    out = predict_image(image, models[model_name], device='cuda')\n",
    "    return image, out\n",
    "\n",
    "\n",
    "\n",
    "def visualize_ict_pipeline(slice_num, width=5, thresh=0.3, model_name='CAD_1', show=True):\n",
    "    diagnosis = pd.read_csv(hssayeni_dir / 'hemorrhage_diagnosis_raw_ct.csv')\n",
    "    label = diagnosis.loc[(diagnosis.PatientNumber == name) & (diagnosis.SliceNumber == slice_num + 1)].to_numpy()[:, 2:-1]\n",
    "    cols = diagnosis.columns[2:-1]\n",
    "    subtype = cols[label.argmax()]\n",
    "\n",
    "    image, out = ict_pipeline(slice_num, width, model_name)\n",
    "\n",
    "    f, axs = plt.subplots(1, 2, figsize = (10, 4), dpi=150)\n",
    "    axs[0].imshow(image, vmin=0, vmax=80, cmap='gray')\n",
    "    axs[0].set_axis_off()\n",
    "    axs[1].bar(out.keys(), out.values())\n",
    "    axs[1].set_ylabel('model output')\n",
    "    axs[1].set_ylim([0, 1])\n",
    "    axs[1].hlines(thresh, 0, len(out), colors='red')\n",
    "    out.pop('Any')\n",
    "    max_label = [k for k, v in out.items() if v == max(out.values())][0]\n",
    "    predicted_label = max_label if out[max_label] > thresh else 'No_Hemorrhage'\n",
    "    color = 'green' if predicted_label == subtype else 'red'\n",
    "    axs[0].set_title(f'age: {age}, \\nmodel prediction: {predicted_label} | truth: {subtype}', color=color)\n",
    "    fname = Path('results.png').absolute()\n",
    "    if show:\n",
    "        plt.show()\n",
    "        return None\n",
    "    else:\n",
    "        plt.savefig(fname)\n",
    "        return fname\n",
    "\n",
    "start = 13\n",
    "thresh = 0.3\n",
    "visualize_ict_pipeline(start, width=1, thresh=0.3, model_name='CAD_1')"
   ]
  },
  {
   "cell_type": "code",
   "execution_count": null,
   "metadata": {},
   "outputs": [
    {
     "data": {
      "text/plain": [
       "{'EDH': np.float32(0.01235199),\n",
       " 'IPH': np.float32(0.012318909),\n",
       " 'IVH': np.float32(0.0045080506),\n",
       " 'SAH': np.float32(0.029166538),\n",
       " 'SDH': np.float32(0.34169638),\n",
       " 'Any': np.float32(0.36785963)}"
      ]
     },
     "execution_count": 16,
     "metadata": {},
     "output_type": "execute_result"
    }
   ],
   "source": [
    "image, out = ict_pipeline(13, width, 'CAD_1')\n",
    "out"
   ]
  },
  {
   "cell_type": "code",
   "execution_count": null,
   "metadata": {},
   "outputs": [
    {
     "data": {
      "text/plain": [
       "(np.float64(-5.42582953874968e-17), np.float64(1.0000000000000007))"
      ]
     },
     "execution_count": 17,
     "metadata": {},
     "output_type": "execute_result"
    }
   ],
   "source": [
    "image = images.copy()\n",
    "image -= image.mean()\n",
    "image /= image.std()\n",
    "image.mean(), image.std()"
   ]
  },
  {
   "cell_type": "code",
   "execution_count": null,
   "metadata": {},
   "outputs": [
    {
     "data": {
      "application/vnd.jupyter.widget-view+json": {
       "model_id": "f59adfc8b69044fd90c7507b43faa259",
       "version_major": 2,
       "version_minor": 0
      },
      "text/plain": [
       "interactive(children=(IntSlider(value=18, description='slice_num', max=36), IntSlider(value=5, description='wi…"
      ]
     },
     "metadata": {},
     "output_type": "display_data"
    },
    {
     "data": {
      "text/plain": [
       "<function __main__.visualize_ict_pipeline(slice_num, width=5, thresh=0.3, model_name='CAD_1', show=True)>"
      ]
     },
     "execution_count": 18,
     "metadata": {},
     "output_type": "execute_result"
    }
   ],
   "source": [
    "from ipywidgets import interact, IntSlider, FloatSlider\n",
    "interact(visualize_ict_pipeline,\n",
    "         slice_num=IntSlider(len(images)//2, 0, len(images)),\n",
    "         width=IntSlider(5, 1, 10),\n",
    "         thresh=FloatSlider(0.3, min=0, max=1, step=0.1),\n",
    "         model_name = list(models.keys()))"
   ]
  },
  {
   "cell_type": "code",
   "execution_count": null,
   "metadata": {},
   "outputs": [],
   "source": [
    "# %pip install gradio"
   ]
  },
  {
   "cell_type": "code",
   "execution_count": null,
   "metadata": {},
   "outputs": [],
   "source": [
    "%load_ext gradio"
   ]
  },
  {
   "cell_type": "code",
   "execution_count": null,
   "metadata": {},
   "outputs": [],
   "source": [
    "!export GRADIO_SERVER_PORT=7864\n",
    "!export GRADIO_SERVER_NAME=\"0.0.0.0\""
   ]
  },
  {
   "cell_type": "code",
   "execution_count": null,
   "metadata": {},
   "outputs": [
    {
     "name": "stdout",
     "output_type": "stream",
     "text": [
      "* Running on local URL:  http://127.0.0.1:7860\n"
     ]
    },
    {
     "ename": "Exception",
     "evalue": "Couldn't start the app because 'http://127.0.0.1:7860/gradio_api/startup-events' failed (code 503). Check your network or proxy settings to ensure localhost is accessible.",
     "output_type": "error",
     "traceback": [
      "\u001b[31m---------------------------------------------------------------------------\u001b[39m",
      "\u001b[31mException\u001b[39m                                 Traceback (most recent call last)",
      "\u001b[36mCell\u001b[39m\u001b[36m \u001b[39m\u001b[32mIn[22]\u001b[39m\u001b[32m, line 1\u001b[39m\n\u001b[32m----> \u001b[39m\u001b[32m1\u001b[39m \u001b[43mget_ipython\u001b[49m\u001b[43m(\u001b[49m\u001b[43m)\u001b[49m\u001b[43m.\u001b[49m\u001b[43mrun_cell_magic\u001b[49m\u001b[43m(\u001b[49m\u001b[33;43m'\u001b[39;49m\u001b[33;43mblocks\u001b[39;49m\u001b[33;43m'\u001b[39;49m\u001b[43m,\u001b[49m\u001b[43m \u001b[49m\u001b[33;43m'\u001b[39;49m\u001b[33;43m'\u001b[39;49m\u001b[43m,\u001b[49m\u001b[43m \u001b[49m\u001b[33;43m'\u001b[39;49m\u001b[38;5;130;43;01m\\n\u001b[39;49;00m\u001b[33;43mimport gradio as gr\u001b[39;49m\u001b[38;5;130;43;01m\\n\u001b[39;49;00m\u001b[33;43m# Create the Gradio interface\u001b[39;49m\u001b[38;5;130;43;01m\\n\u001b[39;49;00m\u001b[33;43miface = gr.Interface(\u001b[39;49m\u001b[38;5;130;43;01m\\n\u001b[39;49;00m\u001b[33;43m    fn=visualize_ict_pipeline,\u001b[39;49m\u001b[38;5;130;43;01m\\n\u001b[39;49;00m\u001b[33;43m    inputs=[\u001b[39;49m\u001b[38;5;130;43;01m\\n\u001b[39;49;00m\u001b[33;43m        gr.Slider(minimum=0, maximum=len(images), step=1, label=\u001b[39;49m\u001b[33;43m\"\u001b[39;49m\u001b[33;43mSlice Number\u001b[39;49m\u001b[33;43m\"\u001b[39;49m\u001b[33;43m),\u001b[39;49m\u001b[38;5;130;43;01m\\n\u001b[39;49;00m\u001b[33;43m        gr.Slider(minimum=1, maximum=10, step=1, label=\u001b[39;49m\u001b[33;43m\"\u001b[39;49m\u001b[33;43mWidth\u001b[39;49m\u001b[33;43m\"\u001b[39;49m\u001b[33;43m),\u001b[39;49m\u001b[38;5;130;43;01m\\n\u001b[39;49;00m\u001b[33;43m        gr.Slider(minimum=0, maximum=1, step=0.1, label=\u001b[39;49m\u001b[33;43m\"\u001b[39;49m\u001b[33;43mThreshold\u001b[39;49m\u001b[33;43m\"\u001b[39;49m\u001b[33;43m),\u001b[39;49m\u001b[38;5;130;43;01m\\n\u001b[39;49;00m\u001b[33;43m        gr.Dropdown(choices=list(models.keys()), label=\u001b[39;49m\u001b[33;43m\"\u001b[39;49m\u001b[33;43mModel Name\u001b[39;49m\u001b[33;43m\"\u001b[39;49m\u001b[33;43m)\u001b[39;49m\u001b[38;5;130;43;01m\\n\u001b[39;49;00m\u001b[33;43m    ],\u001b[39;49m\u001b[38;5;130;43;01m\\n\u001b[39;49;00m\u001b[33;43m    outputs=[\u001b[39;49m\u001b[33;43m\"\u001b[39;49m\u001b[33;43mimage\u001b[39;49m\u001b[33;43m\"\u001b[39;49m\u001b[33;43m]\u001b[39;49m\u001b[38;5;130;43;01m\\n\u001b[39;49;00m\u001b[33;43m)\u001b[39;49m\u001b[38;5;130;43;01m\\n\u001b[39;49;00m\u001b[38;5;130;43;01m\\n\u001b[39;49;00m\u001b[33;43m# Launch the interface\u001b[39;49m\u001b[38;5;130;43;01m\\n\u001b[39;49;00m\u001b[33;43miface.launch()\u001b[39;49m\u001b[38;5;130;43;01m\\n\u001b[39;49;00m\u001b[33;43m'\u001b[39;49m\u001b[43m)\u001b[49m\n",
      "\u001b[36mFile \u001b[39m\u001b[32m/scratch/brandon.nelson/demos/pediatric_ich_cadt/.demo/lib/python3.13/site-packages/IPython/core/interactiveshell.py:2565\u001b[39m, in \u001b[36mInteractiveShell.run_cell_magic\u001b[39m\u001b[34m(self, magic_name, line, cell)\u001b[39m\n\u001b[32m   2563\u001b[39m \u001b[38;5;28;01mwith\u001b[39;00m \u001b[38;5;28mself\u001b[39m.builtin_trap:\n\u001b[32m   2564\u001b[39m     args = (magic_arg_s, cell)\n\u001b[32m-> \u001b[39m\u001b[32m2565\u001b[39m     result = \u001b[43mfn\u001b[49m\u001b[43m(\u001b[49m\u001b[43m*\u001b[49m\u001b[43margs\u001b[49m\u001b[43m,\u001b[49m\u001b[43m \u001b[49m\u001b[43m*\u001b[49m\u001b[43m*\u001b[49m\u001b[43mkwargs\u001b[49m\u001b[43m)\u001b[49m\n\u001b[32m   2567\u001b[39m \u001b[38;5;66;03m# The code below prevents the output from being displayed\u001b[39;00m\n\u001b[32m   2568\u001b[39m \u001b[38;5;66;03m# when using magics with decorator @output_can_be_silenced\u001b[39;00m\n\u001b[32m   2569\u001b[39m \u001b[38;5;66;03m# when the last Python token in the expression is a ';'.\u001b[39;00m\n\u001b[32m   2570\u001b[39m \u001b[38;5;28;01mif\u001b[39;00m \u001b[38;5;28mgetattr\u001b[39m(fn, magic.MAGIC_OUTPUT_CAN_BE_SILENCED, \u001b[38;5;28;01mFalse\u001b[39;00m):\n",
      "\u001b[36mFile \u001b[39m\u001b[32m/scratch/brandon.nelson/demos/pediatric_ich_cadt/.demo/lib/python3.13/site-packages/gradio/ipython_ext.py:78\u001b[39m, in \u001b[36mload_ipython_extension.<locals>.blocks\u001b[39m\u001b[34m(line, cell, local_ns)\u001b[39m\n\u001b[32m     74\u001b[39m \u001b[38;5;250m\u001b[39m\u001b[33;03m\"\"\"Launch a demo defined in a cell in reload mode.\"\"\"\u001b[39;00m\n\u001b[32m     76\u001b[39m args = parse_argstring(blocks, line)  \u001b[38;5;66;03m# type: ignore\u001b[39;00m\n\u001b[32m---> \u001b[39m\u001b[32m78\u001b[39m \u001b[43mexec\u001b[49m\u001b[43m(\u001b[49m\u001b[43mcell\u001b[49m\u001b[43m,\u001b[49m\u001b[43m \u001b[49m\u001b[38;5;28;43;01mNone\u001b[39;49;00m\u001b[43m,\u001b[49m\u001b[43m \u001b[49m\u001b[43mlocal_ns\u001b[49m\u001b[43m)\u001b[49m\n\u001b[32m     79\u001b[39m demo: gr.Blocks = local_ns[args.demo_name]\n\u001b[32m     80\u001b[39m \u001b[38;5;28;01mif\u001b[39;00m \u001b[38;5;129;01mnot\u001b[39;00m reloader.demo_tracked():\n",
      "\u001b[36mFile \u001b[39m\u001b[32m<string>:16\u001b[39m\n",
      "\u001b[36mFile \u001b[39m\u001b[32m/scratch/brandon.nelson/demos/pediatric_ich_cadt/.demo/lib/python3.13/site-packages/gradio/blocks.py:2681\u001b[39m, in \u001b[36mBlocks.launch\u001b[39m\u001b[34m(self, inline, inbrowser, share, debug, max_threads, auth, auth_message, prevent_thread_lock, show_error, server_name, server_port, height, width, favicon_path, ssl_keyfile, ssl_certfile, ssl_keyfile_password, ssl_verify, quiet, show_api, allowed_paths, blocked_paths, root_path, app_kwargs, state_session_capacity, share_server_address, share_server_protocol, share_server_tls_certificate, auth_dependency, max_file_size, enable_monitoring, strict_cors, node_server_name, node_port, ssr_mode, pwa, mcp_server, _frontend, i18n)\u001b[39m\n\u001b[32m   2675\u001b[39m     resp = httpx.get(\n\u001b[32m   2676\u001b[39m         \u001b[33mf\u001b[39m\u001b[33m\"\u001b[39m\u001b[38;5;132;01m{\u001b[39;00m\u001b[38;5;28mself\u001b[39m.local_api_url\u001b[38;5;132;01m}\u001b[39;00m\u001b[33mstartup-events\u001b[39m\u001b[33m\"\u001b[39m,\n\u001b[32m   2677\u001b[39m         verify=ssl_verify,\n\u001b[32m   2678\u001b[39m         timeout=\u001b[38;5;28;01mNone\u001b[39;00m,\n\u001b[32m   2679\u001b[39m     )\n\u001b[32m   2680\u001b[39m     \u001b[38;5;28;01mif\u001b[39;00m \u001b[38;5;129;01mnot\u001b[39;00m resp.is_success:\n\u001b[32m-> \u001b[39m\u001b[32m2681\u001b[39m         \u001b[38;5;28;01mraise\u001b[39;00m \u001b[38;5;167;01mException\u001b[39;00m(\n\u001b[32m   2682\u001b[39m             \u001b[33mf\u001b[39m\u001b[33m\"\u001b[39m\u001b[33mCouldn\u001b[39m\u001b[33m'\u001b[39m\u001b[33mt start the app because \u001b[39m\u001b[33m'\u001b[39m\u001b[38;5;132;01m{\u001b[39;00mresp.url\u001b[38;5;132;01m}\u001b[39;00m\u001b[33m'\u001b[39m\u001b[33m failed (code \u001b[39m\u001b[38;5;132;01m{\u001b[39;00mresp.status_code\u001b[38;5;132;01m}\u001b[39;00m\u001b[33m). Check your network or proxy settings to ensure localhost is accessible.\u001b[39m\u001b[33m\"\u001b[39m\n\u001b[32m   2683\u001b[39m         )\n\u001b[32m   2685\u001b[39m \u001b[38;5;28;01mif\u001b[39;00m share \u001b[38;5;129;01mis\u001b[39;00m \u001b[38;5;28;01mNone\u001b[39;00m:\n\u001b[32m   2686\u001b[39m     \u001b[38;5;28;01mif\u001b[39;00m \u001b[38;5;28mself\u001b[39m.is_colab \u001b[38;5;129;01mor\u001b[39;00m \u001b[38;5;28mself\u001b[39m.is_hosted_notebook:\n",
      "\u001b[31mException\u001b[39m: Couldn't start the app because 'http://127.0.0.1:7860/gradio_api/startup-events' failed (code 503). Check your network or proxy settings to ensure localhost is accessible."
     ]
    }
   ],
   "source": [
    "%%blocks\n",
    "\n",
    "import gradio as gr\n",
    "# Create the Gradio interface\n",
    "iface = gr.Interface(\n",
    "    fn=visualize_ict_pipeline,\n",
    "    inputs=[\n",
    "        gr.Slider(minimum=0, maximum=len(images), step=1, label=\"Slice Number\"),\n",
    "        gr.Slider(minimum=1, maximum=10, step=1, label=\"Width\"),\n",
    "        gr.Slider(minimum=0, maximum=1, step=0.1, label=\"Threshold\"),\n",
    "        gr.Dropdown(choices=list(models.keys()), label=\"Model Name\")\n",
    "    ],\n",
    "    outputs=[\"image\"]\n",
    ")\n",
    "\n",
    "# Launch the interface\n",
    "iface.launch()"
   ]
  },
  {
   "cell_type": "code",
   "execution_count": null,
   "metadata": {},
   "outputs": [],
   "source": []
  }
 ],
 "metadata": {
  "kernelspec": {
   "display_name": ".demo",
   "language": "python",
   "name": "python3"
  },
  "language_info": {
   "codemirror_mode": {
    "name": "ipython",
    "version": 3
   },
   "file_extension": ".py",
   "mimetype": "text/x-python",
   "name": "python",
   "nbconvert_exporter": "python",
   "pygments_lexer": "ipython3",
   "version": "3.13.5"
  }
 },
 "nbformat": 4,
 "nbformat_minor": 4
}
