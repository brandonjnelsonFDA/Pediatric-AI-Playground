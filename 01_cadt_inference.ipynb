{
 "cells": [
  {
   "cell_type": "markdown",
   "metadata": {},
   "source": [
    "# Model Playground"
   ]
  },
  {
   "cell_type": "markdown",
   "metadata": {},
   "source": [
    "Now add in the synthetic data here: /scratch/brandon.nelson/demos/pediatric_ich_cadt/study_plan.csv, and /scratch/brandon.nelson/demos/pediatric_ich_cadt/results"
   ]
  },
  {
   "cell_type": "code",
   "execution_count": 1,
   "metadata": {},
   "outputs": [
    {
     "name": "stderr",
     "output_type": "stream",
     "text": [
      "/scratch/brandon.nelson/demos/pediatric_ich_cadt/.demo/lib/python3.13/site-packages/monai/utils/module.py:399: UserWarning: pkg_resources is deprecated as an API. See https://setuptools.pypa.io/en/latest/pkg_resources.html. The pkg_resources package is slated for removal as early as 2025-11-30. Refrain from using this package or pin to Setuptools<81.\n",
      "  pkg = __import__(module)  # top level module\n"
     ]
    },
    {
     "data": {
      "text/html": [
       "<div>\n",
       "<style scoped>\n",
       "    .dataframe tbody tr th:only-of-type {\n",
       "        vertical-align: middle;\n",
       "    }\n",
       "\n",
       "    .dataframe tbody tr th {\n",
       "        vertical-align: top;\n",
       "    }\n",
       "\n",
       "    .dataframe thead th {\n",
       "        text-align: right;\n",
       "    }\n",
       "</style>\n",
       "<table border=\"1\" class=\"dataframe\">\n",
       "  <thead>\n",
       "    <tr style=\"text-align: right;\">\n",
       "      <th></th>\n",
       "      <th>name</th>\n",
       "      <th>age</th>\n",
       "      <th>dataset</th>\n",
       "      <th>Epidural</th>\n",
       "      <th>Subdural</th>\n",
       "      <th>Intraparenchymal</th>\n",
       "      <th>Intraventricular</th>\n",
       "      <th>Subarachnoid</th>\n",
       "      <th>No_Hemorrhage</th>\n",
       "      <th>file</th>\n",
       "    </tr>\n",
       "  </thead>\n",
       "  <tbody>\n",
       "    <tr>\n",
       "      <th>0</th>\n",
       "      <td>49.0</td>\n",
       "      <td>35.00</td>\n",
       "      <td>Hssayeni</td>\n",
       "      <td>0.0</td>\n",
       "      <td>0.0</td>\n",
       "      <td>0.0</td>\n",
       "      <td>0.0</td>\n",
       "      <td>0.0</td>\n",
       "      <td>1.0</td>\n",
       "      <td>/projects01/didsr-aiml/brandon.nelson/pedsilic...</td>\n",
       "    </tr>\n",
       "    <tr>\n",
       "      <th>1</th>\n",
       "      <td>49.0</td>\n",
       "      <td>35.00</td>\n",
       "      <td>Hssayeni</td>\n",
       "      <td>0.0</td>\n",
       "      <td>0.0</td>\n",
       "      <td>0.0</td>\n",
       "      <td>0.0</td>\n",
       "      <td>0.0</td>\n",
       "      <td>1.0</td>\n",
       "      <td>/projects01/didsr-aiml/brandon.nelson/pedsilic...</td>\n",
       "    </tr>\n",
       "    <tr>\n",
       "      <th>2</th>\n",
       "      <td>49.0</td>\n",
       "      <td>35.00</td>\n",
       "      <td>Hssayeni</td>\n",
       "      <td>0.0</td>\n",
       "      <td>0.0</td>\n",
       "      <td>0.0</td>\n",
       "      <td>0.0</td>\n",
       "      <td>0.0</td>\n",
       "      <td>1.0</td>\n",
       "      <td>/projects01/didsr-aiml/brandon.nelson/pedsilic...</td>\n",
       "    </tr>\n",
       "    <tr>\n",
       "      <th>3</th>\n",
       "      <td>49.0</td>\n",
       "      <td>35.00</td>\n",
       "      <td>Hssayeni</td>\n",
       "      <td>0.0</td>\n",
       "      <td>0.0</td>\n",
       "      <td>0.0</td>\n",
       "      <td>0.0</td>\n",
       "      <td>0.0</td>\n",
       "      <td>1.0</td>\n",
       "      <td>/projects01/didsr-aiml/brandon.nelson/pedsilic...</td>\n",
       "    </tr>\n",
       "    <tr>\n",
       "      <th>4</th>\n",
       "      <td>49.0</td>\n",
       "      <td>35.00</td>\n",
       "      <td>Hssayeni</td>\n",
       "      <td>0.0</td>\n",
       "      <td>0.0</td>\n",
       "      <td>0.0</td>\n",
       "      <td>0.0</td>\n",
       "      <td>0.0</td>\n",
       "      <td>1.0</td>\n",
       "      <td>/projects01/didsr-aiml/brandon.nelson/pedsilic...</td>\n",
       "    </tr>\n",
       "    <tr>\n",
       "      <th>...</th>\n",
       "      <td>...</td>\n",
       "      <td>...</td>\n",
       "      <td>...</td>\n",
       "      <td>...</td>\n",
       "      <td>...</td>\n",
       "      <td>...</td>\n",
       "      <td>...</td>\n",
       "      <td>...</td>\n",
       "      <td>...</td>\n",
       "      <td>...</td>\n",
       "    </tr>\n",
       "    <tr>\n",
       "      <th>9639</th>\n",
       "      <td>synthetic 43</td>\n",
       "      <td>15.75</td>\n",
       "      <td>Synthetic</td>\n",
       "      <td>0.0</td>\n",
       "      <td>0.0</td>\n",
       "      <td>0.0</td>\n",
       "      <td>0.0</td>\n",
       "      <td>0.0</td>\n",
       "      <td>1.0</td>\n",
       "      <td>/scratch/brandon.nelson/demos/pediatric_ich_ca...</td>\n",
       "    </tr>\n",
       "    <tr>\n",
       "      <th>9640</th>\n",
       "      <td>synthetic 43</td>\n",
       "      <td>15.75</td>\n",
       "      <td>Synthetic</td>\n",
       "      <td>0.0</td>\n",
       "      <td>0.0</td>\n",
       "      <td>0.0</td>\n",
       "      <td>0.0</td>\n",
       "      <td>0.0</td>\n",
       "      <td>1.0</td>\n",
       "      <td>/scratch/brandon.nelson/demos/pediatric_ich_ca...</td>\n",
       "    </tr>\n",
       "    <tr>\n",
       "      <th>9641</th>\n",
       "      <td>synthetic 43</td>\n",
       "      <td>15.75</td>\n",
       "      <td>Synthetic</td>\n",
       "      <td>0.0</td>\n",
       "      <td>0.0</td>\n",
       "      <td>0.0</td>\n",
       "      <td>0.0</td>\n",
       "      <td>0.0</td>\n",
       "      <td>1.0</td>\n",
       "      <td>/scratch/brandon.nelson/demos/pediatric_ich_ca...</td>\n",
       "    </tr>\n",
       "    <tr>\n",
       "      <th>9642</th>\n",
       "      <td>synthetic 43</td>\n",
       "      <td>15.75</td>\n",
       "      <td>Synthetic</td>\n",
       "      <td>0.0</td>\n",
       "      <td>0.0</td>\n",
       "      <td>0.0</td>\n",
       "      <td>0.0</td>\n",
       "      <td>0.0</td>\n",
       "      <td>1.0</td>\n",
       "      <td>/scratch/brandon.nelson/demos/pediatric_ich_ca...</td>\n",
       "    </tr>\n",
       "    <tr>\n",
       "      <th>9643</th>\n",
       "      <td>synthetic 43</td>\n",
       "      <td>15.75</td>\n",
       "      <td>Synthetic</td>\n",
       "      <td>0.0</td>\n",
       "      <td>0.0</td>\n",
       "      <td>0.0</td>\n",
       "      <td>0.0</td>\n",
       "      <td>0.0</td>\n",
       "      <td>1.0</td>\n",
       "      <td>/scratch/brandon.nelson/demos/pediatric_ich_ca...</td>\n",
       "    </tr>\n",
       "  </tbody>\n",
       "</table>\n",
       "<p>9644 rows × 10 columns</p>\n",
       "</div>"
      ],
      "text/plain": [
       "              name    age    dataset  Epidural  Subdural  Intraparenchymal  \\\n",
       "0             49.0  35.00   Hssayeni       0.0       0.0               0.0   \n",
       "1             49.0  35.00   Hssayeni       0.0       0.0               0.0   \n",
       "2             49.0  35.00   Hssayeni       0.0       0.0               0.0   \n",
       "3             49.0  35.00   Hssayeni       0.0       0.0               0.0   \n",
       "4             49.0  35.00   Hssayeni       0.0       0.0               0.0   \n",
       "...            ...    ...        ...       ...       ...               ...   \n",
       "9639  synthetic 43  15.75  Synthetic       0.0       0.0               0.0   \n",
       "9640  synthetic 43  15.75  Synthetic       0.0       0.0               0.0   \n",
       "9641  synthetic 43  15.75  Synthetic       0.0       0.0               0.0   \n",
       "9642  synthetic 43  15.75  Synthetic       0.0       0.0               0.0   \n",
       "9643  synthetic 43  15.75  Synthetic       0.0       0.0               0.0   \n",
       "\n",
       "      Intraventricular  Subarachnoid  No_Hemorrhage  \\\n",
       "0                  0.0           0.0            1.0   \n",
       "1                  0.0           0.0            1.0   \n",
       "2                  0.0           0.0            1.0   \n",
       "3                  0.0           0.0            1.0   \n",
       "4                  0.0           0.0            1.0   \n",
       "...                ...           ...            ...   \n",
       "9639               0.0           0.0            1.0   \n",
       "9640               0.0           0.0            1.0   \n",
       "9641               0.0           0.0            1.0   \n",
       "9642               0.0           0.0            1.0   \n",
       "9643               0.0           0.0            1.0   \n",
       "\n",
       "                                                   file  \n",
       "0     /projects01/didsr-aiml/brandon.nelson/pedsilic...  \n",
       "1     /projects01/didsr-aiml/brandon.nelson/pedsilic...  \n",
       "2     /projects01/didsr-aiml/brandon.nelson/pedsilic...  \n",
       "3     /projects01/didsr-aiml/brandon.nelson/pedsilic...  \n",
       "4     /projects01/didsr-aiml/brandon.nelson/pedsilic...  \n",
       "...                                                 ...  \n",
       "9639  /scratch/brandon.nelson/demos/pediatric_ich_ca...  \n",
       "9640  /scratch/brandon.nelson/demos/pediatric_ich_ca...  \n",
       "9641  /scratch/brandon.nelson/demos/pediatric_ich_ca...  \n",
       "9642  /scratch/brandon.nelson/demos/pediatric_ich_ca...  \n",
       "9643  /scratch/brandon.nelson/demos/pediatric_ich_ca...  \n",
       "\n",
       "[9644 rows x 10 columns]"
      ]
     },
     "execution_count": 1,
     "metadata": {},
     "output_type": "execute_result"
    },
    {
     "data": {
      "image/png": "[encoded data removed]",
      "text/plain": [
       "<Figure size 1000x500 with 2 Axes>"
      ]
     },
     "metadata": {},
     "output_type": "display_data"
    }
   ],
   "source": [
    "from pathlib import Path\n",
    "import pandas as pd\n",
    "import numpy as np\n",
    "from gradio_demo import load_datasets\n",
    "\n",
    "hssayeni_dir = '/projects01/didsr-aiml/brandon.nelson/pedsilicoICH/datasets/Hssayeni/'\n",
    "synth_dir = Path('/scratch/brandon.nelson/demos/pediatric_ich_cadt/results')\n",
    "\n",
    "patients = load_datasets(hssayeni_dir, synth_dir)\n",
    "patients"
   ]
  },
  {
   "cell_type": "code",
   "execution_count": 2,
   "metadata": {},
   "outputs": [
    {
     "data": {
      "text/plain": [
       "(135, 512, 512)"
      ]
     },
     "execution_count": 2,
     "metadata": {},
     "output_type": "execute_result"
    }
   ],
   "source": [
    "import SimpleITK as sitk\n",
    "vol = sitk.GetArrayFromImage(sitk.ReadImage(sorted(list(Path(patients[patients.name == 'synthetic 43']['file'].iloc[0]).glob('*.dcm')))))\n",
    "vol.shape"
   ]
  },
  {
   "cell_type": "markdown",
   "metadata": {},
   "source": [
    "# CAD module"
   ]
  },
  {
   "cell_type": "code",
   "execution_count": 3,
   "metadata": {},
   "outputs": [],
   "source": [
    "from model_utils import InferenceManager"
   ]
  },
  {
   "cell_type": "code",
   "execution_count": 4,
   "metadata": {},
   "outputs": [],
   "source": [
    "from model_utils import download_and_unzip\n",
    "from dotenv import load_dotenv\n",
    "import os\n",
    "load_dotenv()\n",
    "\n",
    "model_path = Path(os.environ['MODEL_PATH'])\n",
    "if not model_path.exists():\n",
    "    download_and_unzip('https://zenodo.org/records/15750437/files/model_files.zip', extract_to=model_path.parents[1]) "
   ]
  },
  {
   "cell_type": "code",
   "execution_count": 5,
   "metadata": {},
   "outputs": [
    {
     "data": {
      "text/plain": [
       "{'CAD_1': PosixPath('/scratch/brandon.nelson/demos/pediatric_ich_cadt/model_files/model_files/CAD_1/resnext101_32x8d_wsl_checkpoint.pth'),\n",
       " 'CAD_2': PosixPath('/scratch/brandon.nelson/demos/pediatric_ich_cadt/model_files/model_files/CAD_2/resnext101_32x8d_wsl_checkpoint.pth'),\n",
       " 'CAD_3': PosixPath('/scratch/brandon.nelson/demos/pediatric_ich_cadt/model_files/model_files/CAD_3/resnext101_32x8d_wsl_checkpoint.pth')}"
      ]
     },
     "execution_count": 5,
     "metadata": {},
     "output_type": "execute_result"
    }
   ],
   "source": [
    "models = {m.parts[-2]: m for m in sorted(list(model_path.rglob('*.pth')))}\n",
    "models"
   ]
  },
  {
   "cell_type": "code",
   "execution_count": 6,
   "metadata": {},
   "outputs": [
    {
     "data": {
      "text/html": [
       "<div>\n",
       "<style scoped>\n",
       "    .dataframe tbody tr th:only-of-type {\n",
       "        vertical-align: middle;\n",
       "    }\n",
       "\n",
       "    .dataframe tbody tr th {\n",
       "        vertical-align: top;\n",
       "    }\n",
       "\n",
       "    .dataframe thead th {\n",
       "        text-align: right;\n",
       "    }\n",
       "</style>\n",
       "<table border=\"1\" class=\"dataframe\">\n",
       "  <thead>\n",
       "    <tr style=\"text-align: right;\">\n",
       "      <th></th>\n",
       "      <th>name</th>\n",
       "      <th>age</th>\n",
       "      <th>dataset</th>\n",
       "      <th>Epidural</th>\n",
       "      <th>Subdural</th>\n",
       "      <th>Intraparenchymal</th>\n",
       "      <th>Intraventricular</th>\n",
       "      <th>Subarachnoid</th>\n",
       "      <th>No_Hemorrhage</th>\n",
       "      <th>file</th>\n",
       "    </tr>\n",
       "  </thead>\n",
       "  <tbody>\n",
       "    <tr>\n",
       "      <th>0</th>\n",
       "      <td>49.0</td>\n",
       "      <td>35.00</td>\n",
       "      <td>Hssayeni</td>\n",
       "      <td>0.0</td>\n",
       "      <td>0.0</td>\n",
       "      <td>0.0</td>\n",
       "      <td>0.0</td>\n",
       "      <td>0.0</td>\n",
       "      <td>1.0</td>\n",
       "      <td>/projects01/didsr-aiml/brandon.nelson/pedsilic...</td>\n",
       "    </tr>\n",
       "    <tr>\n",
       "      <th>1</th>\n",
       "      <td>49.0</td>\n",
       "      <td>35.00</td>\n",
       "      <td>Hssayeni</td>\n",
       "      <td>0.0</td>\n",
       "      <td>0.0</td>\n",
       "      <td>0.0</td>\n",
       "      <td>0.0</td>\n",
       "      <td>0.0</td>\n",
       "      <td>1.0</td>\n",
       "      <td>/projects01/didsr-aiml/brandon.nelson/pedsilic...</td>\n",
       "    </tr>\n",
       "    <tr>\n",
       "      <th>2</th>\n",
       "      <td>49.0</td>\n",
       "      <td>35.00</td>\n",
       "      <td>Hssayeni</td>\n",
       "      <td>0.0</td>\n",
       "      <td>0.0</td>\n",
       "      <td>0.0</td>\n",
       "      <td>0.0</td>\n",
       "      <td>0.0</td>\n",
       "      <td>1.0</td>\n",
       "      <td>/projects01/didsr-aiml/brandon.nelson/pedsilic...</td>\n",
       "    </tr>\n",
       "    <tr>\n",
       "      <th>3</th>\n",
       "      <td>49.0</td>\n",
       "      <td>35.00</td>\n",
       "      <td>Hssayeni</td>\n",
       "      <td>0.0</td>\n",
       "      <td>0.0</td>\n",
       "      <td>0.0</td>\n",
       "      <td>0.0</td>\n",
       "      <td>0.0</td>\n",
       "      <td>1.0</td>\n",
       "      <td>/projects01/didsr-aiml/brandon.nelson/pedsilic...</td>\n",
       "    </tr>\n",
       "    <tr>\n",
       "      <th>4</th>\n",
       "      <td>49.0</td>\n",
       "      <td>35.00</td>\n",
       "      <td>Hssayeni</td>\n",
       "      <td>0.0</td>\n",
       "      <td>0.0</td>\n",
       "      <td>0.0</td>\n",
       "      <td>0.0</td>\n",
       "      <td>0.0</td>\n",
       "      <td>1.0</td>\n",
       "      <td>/projects01/didsr-aiml/brandon.nelson/pedsilic...</td>\n",
       "    </tr>\n",
       "    <tr>\n",
       "      <th>...</th>\n",
       "      <td>...</td>\n",
       "      <td>...</td>\n",
       "      <td>...</td>\n",
       "      <td>...</td>\n",
       "      <td>...</td>\n",
       "      <td>...</td>\n",
       "      <td>...</td>\n",
       "      <td>...</td>\n",
       "      <td>...</td>\n",
       "      <td>...</td>\n",
       "    </tr>\n",
       "    <tr>\n",
       "      <th>9639</th>\n",
       "      <td>synthetic 43</td>\n",
       "      <td>15.75</td>\n",
       "      <td>Synthetic</td>\n",
       "      <td>0.0</td>\n",
       "      <td>0.0</td>\n",
       "      <td>0.0</td>\n",
       "      <td>0.0</td>\n",
       "      <td>0.0</td>\n",
       "      <td>1.0</td>\n",
       "      <td>/scratch/brandon.nelson/demos/pediatric_ich_ca...</td>\n",
       "    </tr>\n",
       "    <tr>\n",
       "      <th>9640</th>\n",
       "      <td>synthetic 43</td>\n",
       "      <td>15.75</td>\n",
       "      <td>Synthetic</td>\n",
       "      <td>0.0</td>\n",
       "      <td>0.0</td>\n",
       "      <td>0.0</td>\n",
       "      <td>0.0</td>\n",
       "      <td>0.0</td>\n",
       "      <td>1.0</td>\n",
       "      <td>/scratch/brandon.nelson/demos/pediatric_ich_ca...</td>\n",
       "    </tr>\n",
       "    <tr>\n",
       "      <th>9641</th>\n",
       "      <td>synthetic 43</td>\n",
       "      <td>15.75</td>\n",
       "      <td>Synthetic</td>\n",
       "      <td>0.0</td>\n",
       "      <td>0.0</td>\n",
       "      <td>0.0</td>\n",
       "      <td>0.0</td>\n",
       "      <td>0.0</td>\n",
       "      <td>1.0</td>\n",
       "      <td>/scratch/brandon.nelson/demos/pediatric_ich_ca...</td>\n",
       "    </tr>\n",
       "    <tr>\n",
       "      <th>9642</th>\n",
       "      <td>synthetic 43</td>\n",
       "      <td>15.75</td>\n",
       "      <td>Synthetic</td>\n",
       "      <td>0.0</td>\n",
       "      <td>0.0</td>\n",
       "      <td>0.0</td>\n",
       "      <td>0.0</td>\n",
       "      <td>0.0</td>\n",
       "      <td>1.0</td>\n",
       "      <td>/scratch/brandon.nelson/demos/pediatric_ich_ca...</td>\n",
       "    </tr>\n",
       "    <tr>\n",
       "      <th>9643</th>\n",
       "      <td>synthetic 43</td>\n",
       "      <td>15.75</td>\n",
       "      <td>Synthetic</td>\n",
       "      <td>0.0</td>\n",
       "      <td>0.0</td>\n",
       "      <td>0.0</td>\n",
       "      <td>0.0</td>\n",
       "      <td>0.0</td>\n",
       "      <td>1.0</td>\n",
       "      <td>/scratch/brandon.nelson/demos/pediatric_ich_ca...</td>\n",
       "    </tr>\n",
       "  </tbody>\n",
       "</table>\n",
       "<p>9644 rows × 10 columns</p>\n",
       "</div>"
      ],
      "text/plain": [
       "              name    age    dataset  Epidural  Subdural  Intraparenchymal  \\\n",
       "0             49.0  35.00   Hssayeni       0.0       0.0               0.0   \n",
       "1             49.0  35.00   Hssayeni       0.0       0.0               0.0   \n",
       "2             49.0  35.00   Hssayeni       0.0       0.0               0.0   \n",
       "3             49.0  35.00   Hssayeni       0.0       0.0               0.0   \n",
       "4             49.0  35.00   Hssayeni       0.0       0.0               0.0   \n",
       "...            ...    ...        ...       ...       ...               ...   \n",
       "9639  synthetic 43  15.75  Synthetic       0.0       0.0               0.0   \n",
       "9640  synthetic 43  15.75  Synthetic       0.0       0.0               0.0   \n",
       "9641  synthetic 43  15.75  Synthetic       0.0       0.0               0.0   \n",
       "9642  synthetic 43  15.75  Synthetic       0.0       0.0               0.0   \n",
       "9643  synthetic 43  15.75  Synthetic       0.0       0.0               0.0   \n",
       "\n",
       "      Intraventricular  Subarachnoid  No_Hemorrhage  \\\n",
       "0                  0.0           0.0            1.0   \n",
       "1                  0.0           0.0            1.0   \n",
       "2                  0.0           0.0            1.0   \n",
       "3                  0.0           0.0            1.0   \n",
       "4                  0.0           0.0            1.0   \n",
       "...                ...           ...            ...   \n",
       "9639               0.0           0.0            1.0   \n",
       "9640               0.0           0.0            1.0   \n",
       "9641               0.0           0.0            1.0   \n",
       "9642               0.0           0.0            1.0   \n",
       "9643               0.0           0.0            1.0   \n",
       "\n",
       "                                                   file  \n",
       "0     /projects01/didsr-aiml/brandon.nelson/pedsilic...  \n",
       "1     /projects01/didsr-aiml/brandon.nelson/pedsilic...  \n",
       "2     /projects01/didsr-aiml/brandon.nelson/pedsilic...  \n",
       "3     /projects01/didsr-aiml/brandon.nelson/pedsilic...  \n",
       "4     /projects01/didsr-aiml/brandon.nelson/pedsilic...  \n",
       "...                                                 ...  \n",
       "9639  /scratch/brandon.nelson/demos/pediatric_ich_ca...  \n",
       "9640  /scratch/brandon.nelson/demos/pediatric_ich_ca...  \n",
       "9641  /scratch/brandon.nelson/demos/pediatric_ich_ca...  \n",
       "9642  /scratch/brandon.nelson/demos/pediatric_ich_ca...  \n",
       "9643  /scratch/brandon.nelson/demos/pediatric_ich_ca...  \n",
       "\n",
       "[9644 rows x 10 columns]"
      ]
     },
     "execution_count": 6,
     "metadata": {},
     "output_type": "execute_result"
    }
   ],
   "source": [
    "patients"
   ]
  },
  {
   "cell_type": "code",
   "execution_count": 8,
   "metadata": {},
   "outputs": [
    {
     "data": {
      "text/plain": [
       "<model_utils.InferenceManager at 0x14a4f72b55b0>"
      ]
     },
     "execution_count": 8,
     "metadata": {},
     "output_type": "execute_result"
    }
   ],
   "source": [
    "manager = InferenceManager(models['CAD_1'])\n",
    "manager"
   ]
  },
  {
   "cell_type": "code",
   "execution_count": 9,
   "metadata": {},
   "outputs": [
    {
     "data": {
      "text/plain": [
       "(39, 512, 512)"
      ]
     },
     "execution_count": 9,
     "metadata": {},
     "output_type": "execute_result"
    }
   ],
   "source": [
    "import nibabel as nib\n",
    "\n",
    "# labels for the model output\n",
    "\n",
    "patient = patients.iloc[0]\n",
    "images = nib.load(patient['file']).get_fdata().transpose(2, 1, 0)[:, ::-1]\n",
    "images.shape"
   ]
  },
  {
   "cell_type": "code",
   "execution_count": null,
   "metadata": {},
   "outputs": [],
   "source": [
    "manager.load_patient(images)"
   ]
  },
  {
   "cell_type": "code",
   "execution_count": null,
   "metadata": {},
   "outputs": [
    {
     "data": {
      "text/plain": [
       "{'Epidural': 3.5887751e-07,\n",
       " 'Intraparenchymal': 3.020801e-07,\n",
       " 'Intraventricular': 1.8245759e-10,\n",
       " 'Subarachnoid': 5.2964946e-08,\n",
       " 'Subdural': 4.186222e-08,\n",
       " 'Any': 6.7164365e-07}"
      ]
     },
     "execution_count": 11,
     "metadata": {},
     "output_type": "execute_result"
    }
   ],
   "source": [
    "manager.get_slice_prediction(1)"
   ]
  },
  {
   "cell_type": "code",
   "execution_count": null,
   "metadata": {},
   "outputs": [
    {
     "ename": "ValueError",
     "evalue": "attempt to get argmax of an empty sequence",
     "output_type": "error",
     "traceback": [
      "\u001b[31m---------------------------------------------------------------------------\u001b[39m",
      "\u001b[31mValueError\u001b[39m                                Traceback (most recent call last)",
      "\u001b[36mCell\u001b[39m\u001b[36m \u001b[39m\u001b[32mIn[12]\u001b[39m\u001b[32m, line 54\u001b[39m\n\u001b[32m     52\u001b[39m start = \u001b[32m13\u001b[39m\n\u001b[32m     53\u001b[39m thresh = \u001b[32m0.3\u001b[39m\n\u001b[32m---> \u001b[39m\u001b[32m54\u001b[39m \u001b[43mvisualize_ict_pipeline\u001b[49m\u001b[43m(\u001b[49m\u001b[43mstart\u001b[49m\u001b[43m,\u001b[49m\u001b[43m \u001b[49m\u001b[43mwidth\u001b[49m\u001b[43m=\u001b[49m\u001b[32;43m1\u001b[39;49m\u001b[43m,\u001b[49m\u001b[43m \u001b[49m\u001b[43mthresh\u001b[49m\u001b[43m=\u001b[49m\u001b[32;43m0.3\u001b[39;49m\u001b[43m,\u001b[49m\u001b[43m \u001b[49m\u001b[43mmodel_name\u001b[49m\u001b[43m=\u001b[49m\u001b[33;43m'\u001b[39;49m\u001b[33;43mCAD_1\u001b[39;49m\u001b[33;43m'\u001b[39;49m\u001b[43m)\u001b[49m\n",
      "\u001b[36mCell\u001b[39m\u001b[36m \u001b[39m\u001b[32mIn[12]\u001b[39m\u001b[32m, line 28\u001b[39m, in \u001b[36mvisualize_ict_pipeline\u001b[39m\u001b[34m(slice_num, width, thresh, model_name, show)\u001b[39m\n\u001b[32m     26\u001b[39m label = diagnosis.loc[(diagnosis.PatientNumber == name) & (diagnosis.SliceNumber == slice_num + \u001b[32m1\u001b[39m)].to_numpy()[:, \u001b[32m2\u001b[39m:-\u001b[32m1\u001b[39m]\n\u001b[32m     27\u001b[39m cols = diagnosis.columns[\u001b[32m2\u001b[39m:-\u001b[32m1\u001b[39m]\n\u001b[32m---> \u001b[39m\u001b[32m28\u001b[39m subtype = cols[\u001b[43mlabel\u001b[49m\u001b[43m.\u001b[49m\u001b[43margmax\u001b[49m\u001b[43m(\u001b[49m\u001b[43m)\u001b[49m]\n\u001b[32m     30\u001b[39m image, out = ict_pipeline(slice_num, width, model_name)\n\u001b[32m     32\u001b[39m f, axs = plt.subplots(\u001b[32m1\u001b[39m, \u001b[32m2\u001b[39m, figsize = (\u001b[32m10\u001b[39m, \u001b[32m4\u001b[39m), dpi=\u001b[32m150\u001b[39m)\n",
      "\u001b[31mValueError\u001b[39m: attempt to get argmax of an empty sequence"
     ]
    }
   ],
   "source": [
    "import numpy as np\n",
    "import matplotlib.pyplot as plt\n",
    "from model_utils import predict_image\n",
    "\n",
    "import albumentations as A\n",
    "import torch\n",
    "import nibabel as nib\n",
    "\n",
    "# labels for the model output\n",
    "\n",
    "patient = patients.iloc[0]\n",
    "images = nib.load(patient['file']).get_fdata().transpose(2, 1, 0)[:, ::-1]\n",
    "name = patient['name']\n",
    "age = patient['age']\n",
    "\n",
    "def ict_pipeline(slice_num, width=5, model_name='CAD_1'):\n",
    "\n",
    "    image = np.mean(images[slice_num:slice_num+width], axis=0) # create average\n",
    "    out = predict_image(image, models[model_name], device='cuda')\n",
    "    return image, out\n",
    "\n",
    "\n",
    "\n",
    "def visualize_ict_pipeline(slice_num, width=5, thresh=0.3, model_name='CAD_1', show=True):\n",
    "    diagnosis = pd.read_csv(Path(hssayeni_dir) / 'hemorrhage_diagnosis_raw_ct.csv')\n",
    "    label = diagnosis.loc[(diagnosis.PatientNumber == name) & (diagnosis.SliceNumber == slice_num + 1)].to_numpy()[:, 2:-1]\n",
    "    cols = diagnosis.columns[2:-1]\n",
    "    subtype = cols[label.argmax()]\n",
    "\n",
    "    image, out = ict_pipeline(slice_num, width, model_name)\n",
    "\n",
    "    f, axs = plt.subplots(1, 2, figsize = (10, 4), dpi=150)\n",
    "    axs[0].imshow(image, vmin=0, vmax=80, cmap='gray')\n",
    "    axs[0].set_axis_off()\n",
    "    axs[1].bar(out.keys(), out.values())\n",
    "    axs[1].set_ylabel('model output')\n",
    "    axs[1].set_ylim([0, 1])\n",
    "    axs[1].hlines(thresh, 0, len(out), colors='red')\n",
    "    out.pop('Any')\n",
    "    max_label = [k for k, v in out.items() if v == max(out.values())][0]\n",
    "    predicted_label = max_label if out[max_label] > thresh else 'No_Hemorrhage'\n",
    "    color = 'green' if predicted_label == subtype else 'red'\n",
    "    axs[0].set_title(f'age: {age}, \\nmodel prediction: {predicted_label} | truth: {subtype}', color=color)\n",
    "    fname = Path('results.png').absolute()\n",
    "    if show:\n",
    "        plt.show()\n",
    "        return None\n",
    "    else:\n",
    "        plt.savefig(fname)\n",
    "        return fname\n",
    "\n",
    "start = 13\n",
    "thresh = 0.3\n",
    "visualize_ict_pipeline(start, width=1, thresh=0.3, model_name='CAD_1')"
   ]
  },
  {
   "cell_type": "code",
   "execution_count": null,
   "metadata": {},
   "outputs": [
    {
     "data": {
      "text/plain": [
       "{'EDH': np.float32(0.01235199),\n",
       " 'IPH': np.float32(0.012318909),\n",
       " 'IVH': np.float32(0.0045080506),\n",
       " 'SAH': np.float32(0.029166538),\n",
       " 'SDH': np.float32(0.34169638),\n",
       " 'Any': np.float32(0.36785963)}"
      ]
     },
     "execution_count": 16,
     "metadata": {},
     "output_type": "execute_result"
    }
   ],
   "source": [
    "image, out = ict_pipeline(13, width, 'CAD_1')\n",
    "out"
   ]
  },
  {
   "cell_type": "code",
   "execution_count": null,
   "metadata": {},
   "outputs": [
    {
     "data": {
      "application/vnd.jupyter.widget-view+json": {
       "model_id": "f59adfc8b69044fd90c7507b43faa259",
       "version_major": 2,
       "version_minor": 0
      },
      "text/plain": [
       "interactive(children=(IntSlider(value=18, description='slice_num', max=36), IntSlider(value=5, description='wi…"
      ]
     },
     "metadata": {},
     "output_type": "display_data"
    },
    {
     "data": {
      "text/plain": [
       "<function __main__.visualize_ict_pipeline(slice_num, width=5, thresh=0.3, model_name='CAD_1', show=True)>"
      ]
     },
     "execution_count": 18,
     "metadata": {},
     "output_type": "execute_result"
    }
   ],
   "source": [
    "from ipywidgets import interact, IntSlider, FloatSlider\n",
    "interact(visualize_ict_pipeline,\n",
    "         slice_num=IntSlider(len(images)//2, 0, len(images)),\n",
    "         width=IntSlider(5, 1, 10),\n",
    "         thresh=FloatSlider(0.3, min=0, max=1, step=0.1),\n",
    "         model_name = list(models.keys()))"
   ]
  }
 ],
 "metadata": {
  "kernelspec": {
   "display_name": ".demo",
   "language": "python",
   "name": "python3"
  },
  "language_info": {
   "codemirror_mode": {
    "name": "ipython",
    "version": 3
   },
   "file_extension": ".py",
   "mimetype": "text/x-python",
   "name": "python",
   "nbconvert_exporter": "python",
   "pygments_lexer": "ipython3",
   "version": "3.13.5"
  }
 },
 "nbformat": 4,
 "nbformat_minor": 4
}
